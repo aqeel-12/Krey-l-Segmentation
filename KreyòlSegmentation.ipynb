{
  "nbformat": 4,
  "nbformat_minor": 0,
  "metadata": {
    "colab": {
      "provenance": [],
      "collapsed_sections": [
        "4aSAqqdoq-v2"
      ]
    },
    "kernelspec": {
      "name": "python3",
      "display_name": "Python 3"
    },
    "language_info": {
      "name": "python"
    }
  },
  "cells": [
    {
      "cell_type": "markdown",
      "source": [
        "Load Training Data File"
      ],
      "metadata": {
        "id": "G75sRpSn0qe_"
      }
    },
    {
      "cell_type": "code",
      "execution_count": 57,
      "metadata": {
        "id": "sxGH4b672hIB"
      },
      "outputs": [],
      "source": [
        "import pandas as pd\n",
        "import nltk\n",
        "from sklearn.model_selection import train_test_split\n",
        "data=pd.read_csv('train.tsv', sep='\\t',header=None)\n"
      ]
    },
    {
      "cell_type": "markdown",
      "source": [
        "Data Cleaning"
      ],
      "metadata": {
        "id": "xTjfnaog0w6f"
      }
    },
    {
      "cell_type": "code",
      "source": [
        "data.dropna(inplace=True)\n",
        "data.reset_index(drop=True, inplace=True)"
      ],
      "metadata": {
        "id": "L5_fBWjk_I_L"
      },
      "execution_count": 58,
      "outputs": []
    },
    {
      "cell_type": "code",
      "source": [
        "data"
      ],
      "metadata": {
        "colab": {
          "base_uri": "https://localhost:8080/",
          "height": 424
        },
        "id": "R4pVLdENF-qB",
        "outputId": "122abf87-cd0b-49dd-c824-084990e15c52"
      },
      "execution_count": 59,
      "outputs": [
        {
          "output_type": "execute_result",
          "data": {
            "text/plain": [
              "                      0                                1\n",
              "0             konsiltan                  k-on-s-i-l-t-an\n",
              "1               depotwa                    d-e-p-o-t-w-a\n",
              "2      sosyopwofesyonèl  s-o-s-y-o-p-w-o-f-e-s-y-o-n-è-l\n",
              "3               vejetal                    v-e-j-e-t-a-l\n",
              "4             repibliye                r-e-p-i-b-l-i-y-e\n",
              "...                 ...                              ...\n",
              "12806              Remi                          R-e-m-i\n",
              "12807     diskriminatwa        d-i-s-k-r-i-m-i-n-a-t-w-a\n",
              "12808              rejè                          r-e-j-è\n",
              "12809             manzè                         m-an-z-è\n",
              "12810            trimès                      t-r-i-m-è-s\n",
              "\n",
              "[12811 rows x 2 columns]"
            ],
            "text/html": [
              "\n",
              "  <div id=\"df-785fc15a-5865-4b55-8638-91b63a9a3dff\">\n",
              "    <div class=\"colab-df-container\">\n",
              "      <div>\n",
              "<style scoped>\n",
              "    .dataframe tbody tr th:only-of-type {\n",
              "        vertical-align: middle;\n",
              "    }\n",
              "\n",
              "    .dataframe tbody tr th {\n",
              "        vertical-align: top;\n",
              "    }\n",
              "\n",
              "    .dataframe thead th {\n",
              "        text-align: right;\n",
              "    }\n",
              "</style>\n",
              "<table border=\"1\" class=\"dataframe\">\n",
              "  <thead>\n",
              "    <tr style=\"text-align: right;\">\n",
              "      <th></th>\n",
              "      <th>0</th>\n",
              "      <th>1</th>\n",
              "    </tr>\n",
              "  </thead>\n",
              "  <tbody>\n",
              "    <tr>\n",
              "      <th>0</th>\n",
              "      <td>konsiltan</td>\n",
              "      <td>k-on-s-i-l-t-an</td>\n",
              "    </tr>\n",
              "    <tr>\n",
              "      <th>1</th>\n",
              "      <td>depotwa</td>\n",
              "      <td>d-e-p-o-t-w-a</td>\n",
              "    </tr>\n",
              "    <tr>\n",
              "      <th>2</th>\n",
              "      <td>sosyopwofesyonèl</td>\n",
              "      <td>s-o-s-y-o-p-w-o-f-e-s-y-o-n-è-l</td>\n",
              "    </tr>\n",
              "    <tr>\n",
              "      <th>3</th>\n",
              "      <td>vejetal</td>\n",
              "      <td>v-e-j-e-t-a-l</td>\n",
              "    </tr>\n",
              "    <tr>\n",
              "      <th>4</th>\n",
              "      <td>repibliye</td>\n",
              "      <td>r-e-p-i-b-l-i-y-e</td>\n",
              "    </tr>\n",
              "    <tr>\n",
              "      <th>...</th>\n",
              "      <td>...</td>\n",
              "      <td>...</td>\n",
              "    </tr>\n",
              "    <tr>\n",
              "      <th>12806</th>\n",
              "      <td>Remi</td>\n",
              "      <td>R-e-m-i</td>\n",
              "    </tr>\n",
              "    <tr>\n",
              "      <th>12807</th>\n",
              "      <td>diskriminatwa</td>\n",
              "      <td>d-i-s-k-r-i-m-i-n-a-t-w-a</td>\n",
              "    </tr>\n",
              "    <tr>\n",
              "      <th>12808</th>\n",
              "      <td>rejè</td>\n",
              "      <td>r-e-j-è</td>\n",
              "    </tr>\n",
              "    <tr>\n",
              "      <th>12809</th>\n",
              "      <td>manzè</td>\n",
              "      <td>m-an-z-è</td>\n",
              "    </tr>\n",
              "    <tr>\n",
              "      <th>12810</th>\n",
              "      <td>trimès</td>\n",
              "      <td>t-r-i-m-è-s</td>\n",
              "    </tr>\n",
              "  </tbody>\n",
              "</table>\n",
              "<p>12811 rows × 2 columns</p>\n",
              "</div>\n",
              "      <button class=\"colab-df-convert\" onclick=\"convertToInteractive('df-785fc15a-5865-4b55-8638-91b63a9a3dff')\"\n",
              "              title=\"Convert this dataframe to an interactive table.\"\n",
              "              style=\"display:none;\">\n",
              "        \n",
              "  <svg xmlns=\"http://www.w3.org/2000/svg\" height=\"24px\"viewBox=\"0 0 24 24\"\n",
              "       width=\"24px\">\n",
              "    <path d=\"M0 0h24v24H0V0z\" fill=\"none\"/>\n",
              "    <path d=\"M18.56 5.44l.94 2.06.94-2.06 2.06-.94-2.06-.94-.94-2.06-.94 2.06-2.06.94zm-11 1L8.5 8.5l.94-2.06 2.06-.94-2.06-.94L8.5 2.5l-.94 2.06-2.06.94zm10 10l.94 2.06.94-2.06 2.06-.94-2.06-.94-.94-2.06-.94 2.06-2.06.94z\"/><path d=\"M17.41 7.96l-1.37-1.37c-.4-.4-.92-.59-1.43-.59-.52 0-1.04.2-1.43.59L10.3 9.45l-7.72 7.72c-.78.78-.78 2.05 0 2.83L4 21.41c.39.39.9.59 1.41.59.51 0 1.02-.2 1.41-.59l7.78-7.78 2.81-2.81c.8-.78.8-2.07 0-2.86zM5.41 20L4 18.59l7.72-7.72 1.47 1.35L5.41 20z\"/>\n",
              "  </svg>\n",
              "      </button>\n",
              "      \n",
              "  <style>\n",
              "    .colab-df-container {\n",
              "      display:flex;\n",
              "      flex-wrap:wrap;\n",
              "      gap: 12px;\n",
              "    }\n",
              "\n",
              "    .colab-df-convert {\n",
              "      background-color: #E8F0FE;\n",
              "      border: none;\n",
              "      border-radius: 50%;\n",
              "      cursor: pointer;\n",
              "      display: none;\n",
              "      fill: #1967D2;\n",
              "      height: 32px;\n",
              "      padding: 0 0 0 0;\n",
              "      width: 32px;\n",
              "    }\n",
              "\n",
              "    .colab-df-convert:hover {\n",
              "      background-color: #E2EBFA;\n",
              "      box-shadow: 0px 1px 2px rgba(60, 64, 67, 0.3), 0px 1px 3px 1px rgba(60, 64, 67, 0.15);\n",
              "      fill: #174EA6;\n",
              "    }\n",
              "\n",
              "    [theme=dark] .colab-df-convert {\n",
              "      background-color: #3B4455;\n",
              "      fill: #D2E3FC;\n",
              "    }\n",
              "\n",
              "    [theme=dark] .colab-df-convert:hover {\n",
              "      background-color: #434B5C;\n",
              "      box-shadow: 0px 1px 3px 1px rgba(0, 0, 0, 0.15);\n",
              "      filter: drop-shadow(0px 1px 2px rgba(0, 0, 0, 0.3));\n",
              "      fill: #FFFFFF;\n",
              "    }\n",
              "  </style>\n",
              "\n",
              "      <script>\n",
              "        const buttonEl =\n",
              "          document.querySelector('#df-785fc15a-5865-4b55-8638-91b63a9a3dff button.colab-df-convert');\n",
              "        buttonEl.style.display =\n",
              "          google.colab.kernel.accessAllowed ? 'block' : 'none';\n",
              "\n",
              "        async function convertToInteractive(key) {\n",
              "          const element = document.querySelector('#df-785fc15a-5865-4b55-8638-91b63a9a3dff');\n",
              "          const dataTable =\n",
              "            await google.colab.kernel.invokeFunction('convertToInteractive',\n",
              "                                                     [key], {});\n",
              "          if (!dataTable) return;\n",
              "\n",
              "          const docLinkHtml = 'Like what you see? Visit the ' +\n",
              "            '<a target=\"_blank\" href=https://colab.research.google.com/notebooks/data_table.ipynb>data table notebook</a>'\n",
              "            + ' to learn more about interactive tables.';\n",
              "          element.innerHTML = '';\n",
              "          dataTable['output_type'] = 'display_data';\n",
              "          await google.colab.output.renderOutput(dataTable, element);\n",
              "          const docLink = document.createElement('div');\n",
              "          docLink.innerHTML = docLinkHtml;\n",
              "          element.appendChild(docLink);\n",
              "        }\n",
              "      </script>\n",
              "    </div>\n",
              "  </div>\n",
              "  "
            ]
          },
          "metadata": {},
          "execution_count": 59
        }
      ]
    },
    {
      "cell_type": "markdown",
      "source": [
        "Add separate columns to the orignal dataframe for data manipulation"
      ],
      "metadata": {
        "id": "HVho8W7r0-d0"
      }
    },
    {
      "cell_type": "code",
      "source": [
        "data.columns=['words','labels']\n",
        "data['tagged_labels'] = data.apply(lambda _: '', axis=1)\n",
        "data['train_words']=data.apply(lambda _: '', axis=1)\n"
      ],
      "metadata": {
        "id": "QX5_pxy03d4m"
      },
      "execution_count": 60,
      "outputs": []
    },
    {
      "cell_type": "markdown",
      "source": [
        "Function to convert labels into tagged labels "
      ],
      "metadata": {
        "id": "h-xUbFAx1PRu"
      }
    },
    {
      "cell_type": "code",
      "source": [
        "def conv_to_tags(word):\n",
        "  lis_grapheme=list(word.split(\"-\"))\n",
        "  label_lis=[]\n",
        "  for x in lis_grapheme:\n",
        "    if len(x)==2:\n",
        "      label_lis.append(x[0].replace(x[0],\"B\"))\n",
        "      label_lis.append(x[1].replace(x[1],\"I\"))\n",
        "    elif len(x)==3:\n",
        "      label_lis.append(x[0].replace(x[0],\"B\"))\n",
        "      label_lis.append(x[1].replace(x[1],\"I\"))\n",
        "      label_lis.append(x[2].replace(x[2],\"I\"))\n",
        "    else:\n",
        "      label_lis.append(\"B\")\n",
        "\n",
        "  string_lis=''.join(label_lis)    \n",
        "  string=''+string_lis[0]\n",
        "  for x in range(1,len(string_lis)):\n",
        "    if string_lis[x]==\"B\":\n",
        "      string+=string_lis[x].replace(string_lis[x],'-B')\n",
        "    else:\n",
        "      string+=string_lis[x].replace(string_lis[x],'-I')   \n",
        "      #print(string_lis[x])\n",
        "  return string\n"
      ],
      "metadata": {
        "id": "75fxTFErdSGU"
      },
      "execution_count": 61,
      "outputs": []
    },
    {
      "cell_type": "markdown",
      "source": [
        "Function to convert each input word into individual letters"
      ],
      "metadata": {
        "id": "7K_Z8f7b1dHx"
      }
    },
    {
      "cell_type": "code",
      "source": [
        "def words_conv(word):\n",
        "  string=''+word[0]\n",
        "  for x in range(1,len(word)):\n",
        "    string+=word[x].replace(word[x],'-'+word[x])\n",
        "  return string"
      ],
      "metadata": {
        "id": "XLFNZdkI66EA"
      },
      "execution_count": 62,
      "outputs": []
    },
    {
      "cell_type": "code",
      "source": [
        "word='mason'\n",
        "words_conv(word)"
      ],
      "metadata": {
        "colab": {
          "base_uri": "https://localhost:8080/",
          "height": 35
        },
        "id": "FNCEImUZ84O9",
        "outputId": "c3a0896a-ad72-43d7-cb6b-950a8c44d8b1"
      },
      "execution_count": 63,
      "outputs": [
        {
          "output_type": "execute_result",
          "data": {
            "text/plain": [
              "'m-a-s-o-n'"
            ],
            "application/vnd.google.colaboratory.intrinsic+json": {
              "type": "string"
            }
          },
          "metadata": {},
          "execution_count": 63
        }
      ]
    },
    {
      "cell_type": "code",
      "source": [
        "word='m-a-s-on'\n",
        "print(conv_to_tags(word))"
      ],
      "metadata": {
        "colab": {
          "base_uri": "https://localhost:8080/"
        },
        "id": "w5wip9RqwJPX",
        "outputId": "96312d8b-d7ee-4976-c764-6e44f53733b0"
      },
      "execution_count": 64,
      "outputs": [
        {
          "output_type": "stream",
          "name": "stdout",
          "text": [
            "B-B-B-B-I\n"
          ]
        }
      ]
    },
    {
      "cell_type": "markdown",
      "source": [
        "Add updated columns to orignal dataframe"
      ],
      "metadata": {
        "id": "YlM8SAKr10ok"
      }
    },
    {
      "cell_type": "code",
      "source": [
        "for x in range(len(data['labels'])):\n",
        "  data['tagged_labels'][x]=conv_to_tags(data['labels'][x])\n",
        "for x in range(len(data['words'])):\n",
        "  data['train_words'][x]=words_conv(data['words'][x]) "
      ],
      "metadata": {
        "id": "KVTvz5zklAFf"
      },
      "execution_count": 65,
      "outputs": []
    },
    {
      "cell_type": "code",
      "source": [
        "data"
      ],
      "metadata": {
        "colab": {
          "base_uri": "https://localhost:8080/",
          "height": 424
        },
        "id": "LfLEVYik9nUZ",
        "outputId": "6a8e7a19-70b6-4667-c73e-f3ac984603bc"
      },
      "execution_count": 66,
      "outputs": [
        {
          "output_type": "execute_result",
          "data": {
            "text/plain": [
              "                  words                           labels  \\\n",
              "0             konsiltan                  k-on-s-i-l-t-an   \n",
              "1               depotwa                    d-e-p-o-t-w-a   \n",
              "2      sosyopwofesyonèl  s-o-s-y-o-p-w-o-f-e-s-y-o-n-è-l   \n",
              "3               vejetal                    v-e-j-e-t-a-l   \n",
              "4             repibliye                r-e-p-i-b-l-i-y-e   \n",
              "...                 ...                              ...   \n",
              "12806              Remi                          R-e-m-i   \n",
              "12807     diskriminatwa        d-i-s-k-r-i-m-i-n-a-t-w-a   \n",
              "12808              rejè                          r-e-j-è   \n",
              "12809             manzè                         m-an-z-è   \n",
              "12810            trimès                      t-r-i-m-è-s   \n",
              "\n",
              "                         tagged_labels                      train_words  \n",
              "0                    B-B-I-B-B-B-B-B-I                k-o-n-s-i-l-t-a-n  \n",
              "1                        B-B-B-B-B-B-B                    d-e-p-o-t-w-a  \n",
              "2      B-B-B-B-B-B-B-B-B-B-B-B-B-B-B-B  s-o-s-y-o-p-w-o-f-e-s-y-o-n-è-l  \n",
              "3                        B-B-B-B-B-B-B                    v-e-j-e-t-a-l  \n",
              "4                    B-B-B-B-B-B-B-B-B                r-e-p-i-b-l-i-y-e  \n",
              "...                                ...                              ...  \n",
              "12806                          B-B-B-B                          R-e-m-i  \n",
              "12807        B-B-B-B-B-B-B-B-B-B-B-B-B        d-i-s-k-r-i-m-i-n-a-t-w-a  \n",
              "12808                          B-B-B-B                          r-e-j-è  \n",
              "12809                        B-B-I-B-B                        m-a-n-z-è  \n",
              "12810                      B-B-B-B-B-B                      t-r-i-m-è-s  \n",
              "\n",
              "[12811 rows x 4 columns]"
            ],
            "text/html": [
              "\n",
              "  <div id=\"df-6237a282-f02a-48f9-af14-4a4e4260e265\">\n",
              "    <div class=\"colab-df-container\">\n",
              "      <div>\n",
              "<style scoped>\n",
              "    .dataframe tbody tr th:only-of-type {\n",
              "        vertical-align: middle;\n",
              "    }\n",
              "\n",
              "    .dataframe tbody tr th {\n",
              "        vertical-align: top;\n",
              "    }\n",
              "\n",
              "    .dataframe thead th {\n",
              "        text-align: right;\n",
              "    }\n",
              "</style>\n",
              "<table border=\"1\" class=\"dataframe\">\n",
              "  <thead>\n",
              "    <tr style=\"text-align: right;\">\n",
              "      <th></th>\n",
              "      <th>words</th>\n",
              "      <th>labels</th>\n",
              "      <th>tagged_labels</th>\n",
              "      <th>train_words</th>\n",
              "    </tr>\n",
              "  </thead>\n",
              "  <tbody>\n",
              "    <tr>\n",
              "      <th>0</th>\n",
              "      <td>konsiltan</td>\n",
              "      <td>k-on-s-i-l-t-an</td>\n",
              "      <td>B-B-I-B-B-B-B-B-I</td>\n",
              "      <td>k-o-n-s-i-l-t-a-n</td>\n",
              "    </tr>\n",
              "    <tr>\n",
              "      <th>1</th>\n",
              "      <td>depotwa</td>\n",
              "      <td>d-e-p-o-t-w-a</td>\n",
              "      <td>B-B-B-B-B-B-B</td>\n",
              "      <td>d-e-p-o-t-w-a</td>\n",
              "    </tr>\n",
              "    <tr>\n",
              "      <th>2</th>\n",
              "      <td>sosyopwofesyonèl</td>\n",
              "      <td>s-o-s-y-o-p-w-o-f-e-s-y-o-n-è-l</td>\n",
              "      <td>B-B-B-B-B-B-B-B-B-B-B-B-B-B-B-B</td>\n",
              "      <td>s-o-s-y-o-p-w-o-f-e-s-y-o-n-è-l</td>\n",
              "    </tr>\n",
              "    <tr>\n",
              "      <th>3</th>\n",
              "      <td>vejetal</td>\n",
              "      <td>v-e-j-e-t-a-l</td>\n",
              "      <td>B-B-B-B-B-B-B</td>\n",
              "      <td>v-e-j-e-t-a-l</td>\n",
              "    </tr>\n",
              "    <tr>\n",
              "      <th>4</th>\n",
              "      <td>repibliye</td>\n",
              "      <td>r-e-p-i-b-l-i-y-e</td>\n",
              "      <td>B-B-B-B-B-B-B-B-B</td>\n",
              "      <td>r-e-p-i-b-l-i-y-e</td>\n",
              "    </tr>\n",
              "    <tr>\n",
              "      <th>...</th>\n",
              "      <td>...</td>\n",
              "      <td>...</td>\n",
              "      <td>...</td>\n",
              "      <td>...</td>\n",
              "    </tr>\n",
              "    <tr>\n",
              "      <th>12806</th>\n",
              "      <td>Remi</td>\n",
              "      <td>R-e-m-i</td>\n",
              "      <td>B-B-B-B</td>\n",
              "      <td>R-e-m-i</td>\n",
              "    </tr>\n",
              "    <tr>\n",
              "      <th>12807</th>\n",
              "      <td>diskriminatwa</td>\n",
              "      <td>d-i-s-k-r-i-m-i-n-a-t-w-a</td>\n",
              "      <td>B-B-B-B-B-B-B-B-B-B-B-B-B</td>\n",
              "      <td>d-i-s-k-r-i-m-i-n-a-t-w-a</td>\n",
              "    </tr>\n",
              "    <tr>\n",
              "      <th>12808</th>\n",
              "      <td>rejè</td>\n",
              "      <td>r-e-j-è</td>\n",
              "      <td>B-B-B-B</td>\n",
              "      <td>r-e-j-è</td>\n",
              "    </tr>\n",
              "    <tr>\n",
              "      <th>12809</th>\n",
              "      <td>manzè</td>\n",
              "      <td>m-an-z-è</td>\n",
              "      <td>B-B-I-B-B</td>\n",
              "      <td>m-a-n-z-è</td>\n",
              "    </tr>\n",
              "    <tr>\n",
              "      <th>12810</th>\n",
              "      <td>trimès</td>\n",
              "      <td>t-r-i-m-è-s</td>\n",
              "      <td>B-B-B-B-B-B</td>\n",
              "      <td>t-r-i-m-è-s</td>\n",
              "    </tr>\n",
              "  </tbody>\n",
              "</table>\n",
              "<p>12811 rows × 4 columns</p>\n",
              "</div>\n",
              "      <button class=\"colab-df-convert\" onclick=\"convertToInteractive('df-6237a282-f02a-48f9-af14-4a4e4260e265')\"\n",
              "              title=\"Convert this dataframe to an interactive table.\"\n",
              "              style=\"display:none;\">\n",
              "        \n",
              "  <svg xmlns=\"http://www.w3.org/2000/svg\" height=\"24px\"viewBox=\"0 0 24 24\"\n",
              "       width=\"24px\">\n",
              "    <path d=\"M0 0h24v24H0V0z\" fill=\"none\"/>\n",
              "    <path d=\"M18.56 5.44l.94 2.06.94-2.06 2.06-.94-2.06-.94-.94-2.06-.94 2.06-2.06.94zm-11 1L8.5 8.5l.94-2.06 2.06-.94-2.06-.94L8.5 2.5l-.94 2.06-2.06.94zm10 10l.94 2.06.94-2.06 2.06-.94-2.06-.94-.94-2.06-.94 2.06-2.06.94z\"/><path d=\"M17.41 7.96l-1.37-1.37c-.4-.4-.92-.59-1.43-.59-.52 0-1.04.2-1.43.59L10.3 9.45l-7.72 7.72c-.78.78-.78 2.05 0 2.83L4 21.41c.39.39.9.59 1.41.59.51 0 1.02-.2 1.41-.59l7.78-7.78 2.81-2.81c.8-.78.8-2.07 0-2.86zM5.41 20L4 18.59l7.72-7.72 1.47 1.35L5.41 20z\"/>\n",
              "  </svg>\n",
              "      </button>\n",
              "      \n",
              "  <style>\n",
              "    .colab-df-container {\n",
              "      display:flex;\n",
              "      flex-wrap:wrap;\n",
              "      gap: 12px;\n",
              "    }\n",
              "\n",
              "    .colab-df-convert {\n",
              "      background-color: #E8F0FE;\n",
              "      border: none;\n",
              "      border-radius: 50%;\n",
              "      cursor: pointer;\n",
              "      display: none;\n",
              "      fill: #1967D2;\n",
              "      height: 32px;\n",
              "      padding: 0 0 0 0;\n",
              "      width: 32px;\n",
              "    }\n",
              "\n",
              "    .colab-df-convert:hover {\n",
              "      background-color: #E2EBFA;\n",
              "      box-shadow: 0px 1px 2px rgba(60, 64, 67, 0.3), 0px 1px 3px 1px rgba(60, 64, 67, 0.15);\n",
              "      fill: #174EA6;\n",
              "    }\n",
              "\n",
              "    [theme=dark] .colab-df-convert {\n",
              "      background-color: #3B4455;\n",
              "      fill: #D2E3FC;\n",
              "    }\n",
              "\n",
              "    [theme=dark] .colab-df-convert:hover {\n",
              "      background-color: #434B5C;\n",
              "      box-shadow: 0px 1px 3px 1px rgba(0, 0, 0, 0.15);\n",
              "      filter: drop-shadow(0px 1px 2px rgba(0, 0, 0, 0.3));\n",
              "      fill: #FFFFFF;\n",
              "    }\n",
              "  </style>\n",
              "\n",
              "      <script>\n",
              "        const buttonEl =\n",
              "          document.querySelector('#df-6237a282-f02a-48f9-af14-4a4e4260e265 button.colab-df-convert');\n",
              "        buttonEl.style.display =\n",
              "          google.colab.kernel.accessAllowed ? 'block' : 'none';\n",
              "\n",
              "        async function convertToInteractive(key) {\n",
              "          const element = document.querySelector('#df-6237a282-f02a-48f9-af14-4a4e4260e265');\n",
              "          const dataTable =\n",
              "            await google.colab.kernel.invokeFunction('convertToInteractive',\n",
              "                                                     [key], {});\n",
              "          if (!dataTable) return;\n",
              "\n",
              "          const docLinkHtml = 'Like what you see? Visit the ' +\n",
              "            '<a target=\"_blank\" href=https://colab.research.google.com/notebooks/data_table.ipynb>data table notebook</a>'\n",
              "            + ' to learn more about interactive tables.';\n",
              "          element.innerHTML = '';\n",
              "          dataTable['output_type'] = 'display_data';\n",
              "          await google.colab.output.renderOutput(dataTable, element);\n",
              "          const docLink = document.createElement('div');\n",
              "          docLink.innerHTML = docLinkHtml;\n",
              "          element.appendChild(docLink);\n",
              "        }\n",
              "      </script>\n",
              "    </div>\n",
              "  </div>\n",
              "  "
            ]
          },
          "metadata": {},
          "execution_count": 66
        }
      ]
    },
    {
      "cell_type": "code",
      "source": [
        "updated_data=data[['train_words','tagged_labels']]\n",
        "updated_data"
      ],
      "metadata": {
        "colab": {
          "base_uri": "https://localhost:8080/",
          "height": 424
        },
        "id": "l526KNDMmjbK",
        "outputId": "c2ef78a0-ba4a-419c-bfb8-46d42c95cfde"
      },
      "execution_count": 67,
      "outputs": [
        {
          "output_type": "execute_result",
          "data": {
            "text/plain": [
              "                           train_words                    tagged_labels\n",
              "0                    k-o-n-s-i-l-t-a-n                B-B-I-B-B-B-B-B-I\n",
              "1                        d-e-p-o-t-w-a                    B-B-B-B-B-B-B\n",
              "2      s-o-s-y-o-p-w-o-f-e-s-y-o-n-è-l  B-B-B-B-B-B-B-B-B-B-B-B-B-B-B-B\n",
              "3                        v-e-j-e-t-a-l                    B-B-B-B-B-B-B\n",
              "4                    r-e-p-i-b-l-i-y-e                B-B-B-B-B-B-B-B-B\n",
              "...                                ...                              ...\n",
              "12806                          R-e-m-i                          B-B-B-B\n",
              "12807        d-i-s-k-r-i-m-i-n-a-t-w-a        B-B-B-B-B-B-B-B-B-B-B-B-B\n",
              "12808                          r-e-j-è                          B-B-B-B\n",
              "12809                        m-a-n-z-è                        B-B-I-B-B\n",
              "12810                      t-r-i-m-è-s                      B-B-B-B-B-B\n",
              "\n",
              "[12811 rows x 2 columns]"
            ],
            "text/html": [
              "\n",
              "  <div id=\"df-7cc06d14-c937-404b-8a29-935c23ea1b3a\">\n",
              "    <div class=\"colab-df-container\">\n",
              "      <div>\n",
              "<style scoped>\n",
              "    .dataframe tbody tr th:only-of-type {\n",
              "        vertical-align: middle;\n",
              "    }\n",
              "\n",
              "    .dataframe tbody tr th {\n",
              "        vertical-align: top;\n",
              "    }\n",
              "\n",
              "    .dataframe thead th {\n",
              "        text-align: right;\n",
              "    }\n",
              "</style>\n",
              "<table border=\"1\" class=\"dataframe\">\n",
              "  <thead>\n",
              "    <tr style=\"text-align: right;\">\n",
              "      <th></th>\n",
              "      <th>train_words</th>\n",
              "      <th>tagged_labels</th>\n",
              "    </tr>\n",
              "  </thead>\n",
              "  <tbody>\n",
              "    <tr>\n",
              "      <th>0</th>\n",
              "      <td>k-o-n-s-i-l-t-a-n</td>\n",
              "      <td>B-B-I-B-B-B-B-B-I</td>\n",
              "    </tr>\n",
              "    <tr>\n",
              "      <th>1</th>\n",
              "      <td>d-e-p-o-t-w-a</td>\n",
              "      <td>B-B-B-B-B-B-B</td>\n",
              "    </tr>\n",
              "    <tr>\n",
              "      <th>2</th>\n",
              "      <td>s-o-s-y-o-p-w-o-f-e-s-y-o-n-è-l</td>\n",
              "      <td>B-B-B-B-B-B-B-B-B-B-B-B-B-B-B-B</td>\n",
              "    </tr>\n",
              "    <tr>\n",
              "      <th>3</th>\n",
              "      <td>v-e-j-e-t-a-l</td>\n",
              "      <td>B-B-B-B-B-B-B</td>\n",
              "    </tr>\n",
              "    <tr>\n",
              "      <th>4</th>\n",
              "      <td>r-e-p-i-b-l-i-y-e</td>\n",
              "      <td>B-B-B-B-B-B-B-B-B</td>\n",
              "    </tr>\n",
              "    <tr>\n",
              "      <th>...</th>\n",
              "      <td>...</td>\n",
              "      <td>...</td>\n",
              "    </tr>\n",
              "    <tr>\n",
              "      <th>12806</th>\n",
              "      <td>R-e-m-i</td>\n",
              "      <td>B-B-B-B</td>\n",
              "    </tr>\n",
              "    <tr>\n",
              "      <th>12807</th>\n",
              "      <td>d-i-s-k-r-i-m-i-n-a-t-w-a</td>\n",
              "      <td>B-B-B-B-B-B-B-B-B-B-B-B-B</td>\n",
              "    </tr>\n",
              "    <tr>\n",
              "      <th>12808</th>\n",
              "      <td>r-e-j-è</td>\n",
              "      <td>B-B-B-B</td>\n",
              "    </tr>\n",
              "    <tr>\n",
              "      <th>12809</th>\n",
              "      <td>m-a-n-z-è</td>\n",
              "      <td>B-B-I-B-B</td>\n",
              "    </tr>\n",
              "    <tr>\n",
              "      <th>12810</th>\n",
              "      <td>t-r-i-m-è-s</td>\n",
              "      <td>B-B-B-B-B-B</td>\n",
              "    </tr>\n",
              "  </tbody>\n",
              "</table>\n",
              "<p>12811 rows × 2 columns</p>\n",
              "</div>\n",
              "      <button class=\"colab-df-convert\" onclick=\"convertToInteractive('df-7cc06d14-c937-404b-8a29-935c23ea1b3a')\"\n",
              "              title=\"Convert this dataframe to an interactive table.\"\n",
              "              style=\"display:none;\">\n",
              "        \n",
              "  <svg xmlns=\"http://www.w3.org/2000/svg\" height=\"24px\"viewBox=\"0 0 24 24\"\n",
              "       width=\"24px\">\n",
              "    <path d=\"M0 0h24v24H0V0z\" fill=\"none\"/>\n",
              "    <path d=\"M18.56 5.44l.94 2.06.94-2.06 2.06-.94-2.06-.94-.94-2.06-.94 2.06-2.06.94zm-11 1L8.5 8.5l.94-2.06 2.06-.94-2.06-.94L8.5 2.5l-.94 2.06-2.06.94zm10 10l.94 2.06.94-2.06 2.06-.94-2.06-.94-.94-2.06-.94 2.06-2.06.94z\"/><path d=\"M17.41 7.96l-1.37-1.37c-.4-.4-.92-.59-1.43-.59-.52 0-1.04.2-1.43.59L10.3 9.45l-7.72 7.72c-.78.78-.78 2.05 0 2.83L4 21.41c.39.39.9.59 1.41.59.51 0 1.02-.2 1.41-.59l7.78-7.78 2.81-2.81c.8-.78.8-2.07 0-2.86zM5.41 20L4 18.59l7.72-7.72 1.47 1.35L5.41 20z\"/>\n",
              "  </svg>\n",
              "      </button>\n",
              "      \n",
              "  <style>\n",
              "    .colab-df-container {\n",
              "      display:flex;\n",
              "      flex-wrap:wrap;\n",
              "      gap: 12px;\n",
              "    }\n",
              "\n",
              "    .colab-df-convert {\n",
              "      background-color: #E8F0FE;\n",
              "      border: none;\n",
              "      border-radius: 50%;\n",
              "      cursor: pointer;\n",
              "      display: none;\n",
              "      fill: #1967D2;\n",
              "      height: 32px;\n",
              "      padding: 0 0 0 0;\n",
              "      width: 32px;\n",
              "    }\n",
              "\n",
              "    .colab-df-convert:hover {\n",
              "      background-color: #E2EBFA;\n",
              "      box-shadow: 0px 1px 2px rgba(60, 64, 67, 0.3), 0px 1px 3px 1px rgba(60, 64, 67, 0.15);\n",
              "      fill: #174EA6;\n",
              "    }\n",
              "\n",
              "    [theme=dark] .colab-df-convert {\n",
              "      background-color: #3B4455;\n",
              "      fill: #D2E3FC;\n",
              "    }\n",
              "\n",
              "    [theme=dark] .colab-df-convert:hover {\n",
              "      background-color: #434B5C;\n",
              "      box-shadow: 0px 1px 3px 1px rgba(0, 0, 0, 0.15);\n",
              "      filter: drop-shadow(0px 1px 2px rgba(0, 0, 0, 0.3));\n",
              "      fill: #FFFFFF;\n",
              "    }\n",
              "  </style>\n",
              "\n",
              "      <script>\n",
              "        const buttonEl =\n",
              "          document.querySelector('#df-7cc06d14-c937-404b-8a29-935c23ea1b3a button.colab-df-convert');\n",
              "        buttonEl.style.display =\n",
              "          google.colab.kernel.accessAllowed ? 'block' : 'none';\n",
              "\n",
              "        async function convertToInteractive(key) {\n",
              "          const element = document.querySelector('#df-7cc06d14-c937-404b-8a29-935c23ea1b3a');\n",
              "          const dataTable =\n",
              "            await google.colab.kernel.invokeFunction('convertToInteractive',\n",
              "                                                     [key], {});\n",
              "          if (!dataTable) return;\n",
              "\n",
              "          const docLinkHtml = 'Like what you see? Visit the ' +\n",
              "            '<a target=\"_blank\" href=https://colab.research.google.com/notebooks/data_table.ipynb>data table notebook</a>'\n",
              "            + ' to learn more about interactive tables.';\n",
              "          element.innerHTML = '';\n",
              "          dataTable['output_type'] = 'display_data';\n",
              "          await google.colab.output.renderOutput(dataTable, element);\n",
              "          const docLink = document.createElement('div');\n",
              "          docLink.innerHTML = docLinkHtml;\n",
              "          element.appendChild(docLink);\n",
              "        }\n",
              "      </script>\n",
              "    </div>\n",
              "  </div>\n",
              "  "
            ]
          },
          "metadata": {},
          "execution_count": 67
        }
      ]
    },
    {
      "cell_type": "code",
      "source": [
        "def data_to_lis_conv(data):\n",
        "  data_lis=[]\n",
        "  for i in range(len(data)):\n",
        "    temp=[]\n",
        "    for j in range(len(data[i])):\n",
        "      temp.append(data[i][j])\n",
        "    data_lis.append(temp)\n",
        "  return data_lis\n"
      ],
      "metadata": {
        "id": "Ga66x6I6rBS0"
      },
      "execution_count": 68,
      "outputs": []
    },
    {
      "cell_type": "code",
      "source": [
        "features_data=updated_data['train_words']\n",
        "labels_data=updated_data['tagged_labels']\n",
        "\n",
        "features=data_to_lis_conv(features_data)\n",
        "labels=data_to_lis_conv(labels_data)"
      ],
      "metadata": {
        "id": "quyRJdbBxRYJ"
      },
      "execution_count": 69,
      "outputs": []
    },
    {
      "cell_type": "code",
      "source": [
        "X_train, X_test, y_train, y_test = train_test_split(features, labels, test_size=0.1)"
      ],
      "metadata": {
        "id": "soPDrxOzzoeH"
      },
      "execution_count": 109,
      "outputs": []
    },
    {
      "cell_type": "code",
      "source": [
        "def train_test_tuples(X_train,X_test):\n",
        "  train = []\n",
        "  for i in range(len(X_train)):\n",
        "      sent = []\n",
        "      for j in range(len(X_train[i])):\n",
        "          sent.append((X_train[i][j], y_train[i][j]))\n",
        "      train.append(sent)\n",
        "  test = []\n",
        "  for i in range(len(X_test)):\n",
        "      sent = []\n",
        "      for j in range(len(X_test[i])):\n",
        "          sent.append((X_test[i][j], y_test[i][j]))\n",
        "      test.append(sent)\n",
        "  return train,test"
      ],
      "metadata": {
        "id": "8ZCyjQuvxbvE"
      },
      "execution_count": 113,
      "outputs": []
    },
    {
      "cell_type": "code",
      "source": [
        "train,test=train_test_tuples(X_train,X_test)\n",
        "tagger = nltk.HiddenMarkovModelTagger.train(train)    "
      ],
      "metadata": {
        "id": "2WzLfn6r0Ing"
      },
      "execution_count": 114,
      "outputs": []
    },
    {
      "cell_type": "code",
      "source": [
        "trainer = nltk.HiddenMarkovModelTrainer()\n",
        "tagger_new = trainer.train_supervised(train)"
      ],
      "metadata": {
        "id": "GYdbt3LpGBSY"
      },
      "execution_count": 124,
      "outputs": []
    },
    {
      "cell_type": "code",
      "source": [
        "print(train[0])\n",
        "print(test[0])"
      ],
      "metadata": {
        "colab": {
          "base_uri": "https://localhost:8080/"
        },
        "id": "_qzh5McL0Lcs",
        "outputId": "9cf45239-92fe-4e57-fd6e-2c6184673111"
      },
      "execution_count": 122,
      "outputs": [
        {
          "output_type": "stream",
          "name": "stdout",
          "text": [
            "[('k', 'B'), ('-', '-'), ('e', 'B'), ('-', '-'), ('n', 'I'), ('-', '-'), ('z', 'B')]\n",
            "[('e', 'B'), ('-', '-'), ('s', 'B'), ('-', '-'), ('p', 'B'), ('-', '-'), ('i', 'B'), ('-', '-'), ('r', 'B'), ('-', '-'), ('i', 'B'), ('-', '-'), ('t', 'B'), ('-', '-'), ('i', 'B'), ('-', '-'), ('s', 'B')]\n"
          ]
        }
      ]
    },
    {
      "cell_type": "code",
      "source": [
        "print(\"Accuracy on test data : \",round(tagger_new.evaluate(test),3)*100,'%')\n"
      ],
      "metadata": {
        "colab": {
          "base_uri": "https://localhost:8080/"
        },
        "id": "U1tcMo16-ro_",
        "outputId": "bbc48290-32a3-4248-c8f1-9be057933913"
      },
      "execution_count": 125,
      "outputs": [
        {
          "output_type": "stream",
          "name": "stderr",
          "text": [
            "/usr/local/lib/python3.7/dist-packages/ipykernel_launcher.py:1: DeprecationWarning: \n",
            "  Function evaluate() has been deprecated.  Use accuracy(gold)\n",
            "  instead.\n",
            "  \"\"\"Entry point for launching an IPython kernel.\n"
          ]
        },
        {
          "output_type": "stream",
          "name": "stdout",
          "text": [
            "Accuracy on test data :  98.4 %\n"
          ]
        }
      ]
    },
    {
      "cell_type": "markdown",
      "source": [
        "#Testing"
      ],
      "metadata": {
        "id": "4aSAqqdoq-v2"
      }
    },
    {
      "cell_type": "code",
      "source": [
        "from sklearn.preprocessing import LabelEncoder\n",
        "le = LabelEncoder()\n",
        "trans_labels = le.fit_transform(updated_data['tagged_labels'])\n",
        "#data['labels'] = le.fit_transform(data['labels'])"
      ],
      "metadata": {
        "id": "BIJhyhIdk1wT"
      },
      "execution_count": null,
      "outputs": []
    },
    {
      "cell_type": "code",
      "source": [
        "trans_labels[0]"
      ],
      "metadata": {
        "colab": {
          "base_uri": "https://localhost:8080/"
        },
        "id": "5KJ9fE3fZNi6",
        "outputId": "18524be3-08b3-4d59-b609-444e490c90e1"
      },
      "execution_count": null,
      "outputs": [
        {
          "output_type": "execute_result",
          "data": {
            "text/plain": [
              "195"
            ]
          },
          "metadata": {},
          "execution_count": 66
        }
      ]
    },
    {
      "cell_type": "code",
      "source": [
        "from sklearn.feature_extraction.text import CountVectorizer\n",
        "from sklearn.model_selection import train_test_split\n",
        "\n",
        "count = CountVectorizer(max_features=1500)\n",
        "input_text = count.fit_transform(updated_data['train_words'].values.astype('U'))\n",
        "\n",
        "#x_train_cv,x_test_cv,y_train_cv,y_test_cv = train_test_split(input_text,updated_data['tagged_labels'],test_size=0.1)\n",
        "x_train_cv,x_test_cv,y_train_cv,y_test_cv = train_test_split(input_text,trans_labels,test_size=0.1)"
      ],
      "metadata": {
        "id": "OqbvJFUEk7Ci"
      },
      "execution_count": null,
      "outputs": []
    },
    {
      "cell_type": "code",
      "source": [
        "type(count)"
      ],
      "metadata": {
        "colab": {
          "base_uri": "https://localhost:8080/",
          "height": 169
        },
        "id": "yQKkibe_Zgl3",
        "outputId": "c1479505-7a3f-4ff4-ddc8-5b76ee9ab560"
      },
      "execution_count": null,
      "outputs": [
        {
          "output_type": "error",
          "ename": "TypeError",
          "evalue": "ignored",
          "traceback": [
            "\u001b[0;31m---------------------------------------------------------------------------\u001b[0m",
            "\u001b[0;31mTypeError\u001b[0m                                 Traceback (most recent call last)",
            "\u001b[0;32m<ipython-input-168-91a5fa975f71>\u001b[0m in \u001b[0;36m<module>\u001b[0;34m\u001b[0m\n\u001b[0;32m----> 1\u001b[0;31m \u001b[0mtype\u001b[0m\u001b[0;34m(\u001b[0m\u001b[0mcount\u001b[0m\u001b[0;34m[\u001b[0m\u001b[0;36m0\u001b[0m\u001b[0;34m]\u001b[0m\u001b[0;34m)\u001b[0m\u001b[0;34m\u001b[0m\u001b[0;34m\u001b[0m\u001b[0m\n\u001b[0m",
            "\u001b[0;31mTypeError\u001b[0m: 'CountVectorizer' object is not subscriptable"
          ]
        }
      ]
    },
    {
      "cell_type": "code",
      "source": [
        "from sklearn.tree import DecisionTreeClassifier\n",
        "tree = DecisionTreeClassifier()\n",
        "tree.fit(x_train_cv.reshape(1,-1),y_train_cv.reshape(-1,1))\n",
        "\n",
        "from sklearn.metrics import accuracy_score\n",
        "pred = tree.predict(x_test_cv)\n",
        "accuracy_score(y_test_cv,pred)"
      ],
      "metadata": {
        "colab": {
          "base_uri": "https://localhost:8080/",
          "height": 389
        },
        "id": "XYDPGK4Hn1Y4",
        "outputId": "8bbcc43d-9687-4248-ba29-fc3009faa70b"
      },
      "execution_count": null,
      "outputs": [
        {
          "output_type": "error",
          "ename": "ValueError",
          "evalue": "ignored",
          "traceback": [
            "\u001b[0;31m---------------------------------------------------------------------------\u001b[0m",
            "\u001b[0;31mValueError\u001b[0m                                Traceback (most recent call last)",
            "\u001b[0;32m<ipython-input-50-142a31772358>\u001b[0m in \u001b[0;36m<module>\u001b[0;34m\u001b[0m\n\u001b[1;32m      1\u001b[0m \u001b[0;32mfrom\u001b[0m \u001b[0msklearn\u001b[0m\u001b[0;34m.\u001b[0m\u001b[0mtree\u001b[0m \u001b[0;32mimport\u001b[0m \u001b[0mDecisionTreeClassifier\u001b[0m\u001b[0;34m\u001b[0m\u001b[0;34m\u001b[0m\u001b[0m\n\u001b[1;32m      2\u001b[0m \u001b[0mtree\u001b[0m \u001b[0;34m=\u001b[0m \u001b[0mDecisionTreeClassifier\u001b[0m\u001b[0;34m(\u001b[0m\u001b[0;34m)\u001b[0m\u001b[0;34m\u001b[0m\u001b[0;34m\u001b[0m\u001b[0m\n\u001b[0;32m----> 3\u001b[0;31m \u001b[0mtree\u001b[0m\u001b[0;34m.\u001b[0m\u001b[0mfit\u001b[0m\u001b[0;34m(\u001b[0m\u001b[0mx_train_cv\u001b[0m\u001b[0;34m.\u001b[0m\u001b[0mreshape\u001b[0m\u001b[0;34m(\u001b[0m\u001b[0;36m1\u001b[0m\u001b[0;34m,\u001b[0m\u001b[0;34m-\u001b[0m\u001b[0;36m1\u001b[0m\u001b[0;34m)\u001b[0m\u001b[0;34m,\u001b[0m\u001b[0my_train_cv\u001b[0m\u001b[0;34m.\u001b[0m\u001b[0mreshape\u001b[0m\u001b[0;34m(\u001b[0m\u001b[0;34m-\u001b[0m\u001b[0;36m1\u001b[0m\u001b[0;34m,\u001b[0m\u001b[0;36m1\u001b[0m\u001b[0;34m)\u001b[0m\u001b[0;34m)\u001b[0m\u001b[0;34m\u001b[0m\u001b[0;34m\u001b[0m\u001b[0m\n\u001b[0m\u001b[1;32m      4\u001b[0m \u001b[0;34m\u001b[0m\u001b[0m\n\u001b[1;32m      5\u001b[0m \u001b[0;32mfrom\u001b[0m \u001b[0msklearn\u001b[0m\u001b[0;34m.\u001b[0m\u001b[0mmetrics\u001b[0m \u001b[0;32mimport\u001b[0m \u001b[0maccuracy_score\u001b[0m\u001b[0;34m\u001b[0m\u001b[0;34m\u001b[0m\u001b[0m\n",
            "\u001b[0;32m/usr/local/lib/python3.7/dist-packages/sklearn/tree/_classes.py\u001b[0m in \u001b[0;36mfit\u001b[0;34m(self, X, y, sample_weight, check_input, X_idx_sorted)\u001b[0m\n\u001b[1;32m    940\u001b[0m             \u001b[0msample_weight\u001b[0m\u001b[0;34m=\u001b[0m\u001b[0msample_weight\u001b[0m\u001b[0;34m,\u001b[0m\u001b[0;34m\u001b[0m\u001b[0;34m\u001b[0m\u001b[0m\n\u001b[1;32m    941\u001b[0m             \u001b[0mcheck_input\u001b[0m\u001b[0;34m=\u001b[0m\u001b[0mcheck_input\u001b[0m\u001b[0;34m,\u001b[0m\u001b[0;34m\u001b[0m\u001b[0;34m\u001b[0m\u001b[0m\n\u001b[0;32m--> 942\u001b[0;31m             \u001b[0mX_idx_sorted\u001b[0m\u001b[0;34m=\u001b[0m\u001b[0mX_idx_sorted\u001b[0m\u001b[0;34m,\u001b[0m\u001b[0;34m\u001b[0m\u001b[0;34m\u001b[0m\u001b[0m\n\u001b[0m\u001b[1;32m    943\u001b[0m         )\n\u001b[1;32m    944\u001b[0m         \u001b[0;32mreturn\u001b[0m \u001b[0mself\u001b[0m\u001b[0;34m\u001b[0m\u001b[0;34m\u001b[0m\u001b[0m\n",
            "\u001b[0;32m/usr/local/lib/python3.7/dist-packages/sklearn/tree/_classes.py\u001b[0m in \u001b[0;36mfit\u001b[0;34m(self, X, y, sample_weight, check_input, X_idx_sorted)\u001b[0m\n\u001b[1;32m    299\u001b[0m             raise ValueError(\n\u001b[1;32m    300\u001b[0m                 \u001b[0;34m\"Number of labels=%d does not match number of samples=%d\"\u001b[0m\u001b[0;34m\u001b[0m\u001b[0;34m\u001b[0m\u001b[0m\n\u001b[0;32m--> 301\u001b[0;31m                 \u001b[0;34m%\u001b[0m \u001b[0;34m(\u001b[0m\u001b[0mlen\u001b[0m\u001b[0;34m(\u001b[0m\u001b[0my\u001b[0m\u001b[0;34m)\u001b[0m\u001b[0;34m,\u001b[0m \u001b[0mn_samples\u001b[0m\u001b[0;34m)\u001b[0m\u001b[0;34m\u001b[0m\u001b[0;34m\u001b[0m\u001b[0m\n\u001b[0m\u001b[1;32m    302\u001b[0m             )\n\u001b[1;32m    303\u001b[0m         \u001b[0;32mif\u001b[0m \u001b[0;32mnot\u001b[0m \u001b[0;36m0\u001b[0m \u001b[0;34m<=\u001b[0m \u001b[0mself\u001b[0m\u001b[0;34m.\u001b[0m\u001b[0mmin_weight_fraction_leaf\u001b[0m \u001b[0;34m<=\u001b[0m \u001b[0;36m0.5\u001b[0m\u001b[0;34m:\u001b[0m\u001b[0;34m\u001b[0m\u001b[0;34m\u001b[0m\u001b[0m\n",
            "\u001b[0;31mValueError\u001b[0m: Number of labels=11530 does not match number of samples=1"
          ]
        }
      ]
    },
    {
      "cell_type": "markdown",
      "source": [
        "LSTM"
      ],
      "metadata": {
        "id": "VHhWZ9rRV7A3"
      }
    },
    {
      "cell_type": "code",
      "source": [
        "import nltk\n",
        "import keras\n",
        "import tensorflow\n",
        "from nltk.tokenize import word_tokenize\n",
        "from nltk.tokenize import wordpunct_tokenize"
      ],
      "metadata": {
        "id": "6tvRvI5_pg5Q"
      },
      "execution_count": null,
      "outputs": []
    },
    {
      "cell_type": "code",
      "source": [
        "from sklearn.model_selection import train_test_split\n",
        "x = updated_data['words']\n",
        "y = updated_data['tagged_labels']\n",
        "x_train,x_test,y_train,y_test = train_test_split(x,y,test_size=0.1, random_state=41)"
      ],
      "metadata": {
        "id": "QpUZ1nUTV8dQ"
      },
      "execution_count": null,
      "outputs": []
    },
    {
      "cell_type": "code",
      "source": [
        "from tensorflow.keras.preprocessing.text import Tokenizer\n",
        "from tensorflow.keras.preprocessing.sequence import pad_sequences\n",
        "from tensorflow.keras.models import Sequential\n",
        "from tensorflow.keras.layers import Dense, Flatten, Embedding, Input, LSTM, Conv1D, MaxPool1D, Bidirectional, Dropout\n",
        "from tensorflow.keras.models import Model\n",
        "from tensorflow.keras.utils import to_categorical"
      ],
      "metadata": {
        "id": "iCA81o-yWLW-"
      },
      "execution_count": null,
      "outputs": []
    },
    {
      "cell_type": "code",
      "source": [
        "vocab = data['words'].tolist()"
      ],
      "metadata": {
        "id": "AQFhy32jWNxD"
      },
      "execution_count": null,
      "outputs": []
    },
    {
      "cell_type": "code",
      "source": [
        "number_words = len(list(set(vocab)))\n",
        "number_words"
      ],
      "metadata": {
        "colab": {
          "base_uri": "https://localhost:8080/"
        },
        "id": "J6PEaL44WQsh",
        "outputId": "9568e442-e490-4a29-b5f3-f591172ccdd2"
      },
      "execution_count": null,
      "outputs": [
        {
          "output_type": "execute_result",
          "data": {
            "text/plain": [
              "12812"
            ]
          },
          "metadata": {},
          "execution_count": 22
        }
      ]
    },
    {
      "cell_type": "code",
      "source": [
        "x_test.head()"
      ],
      "metadata": {
        "colab": {
          "base_uri": "https://localhost:8080/"
        },
        "id": "qH50p6NhW4tw",
        "outputId": "7aa42514-4fd2-423a-cd5b-68f531e281dc"
      },
      "execution_count": null,
      "outputs": [
        {
          "output_type": "execute_result",
          "data": {
            "text/plain": [
              "1410         Jewòm\n",
              "9973      sepandan\n",
              "10817    egzateman\n",
              "2932      filalang\n",
              "5563         Gawou\n",
              "Name: words, dtype: object"
            ]
          },
          "metadata": {},
          "execution_count": 30
        }
      ]
    },
    {
      "cell_type": "code",
      "source": [
        "# tokenizing all tweets \n",
        "tokenizer = Tokenizer(num_words=number_words)\n",
        "tokenizer.fit_on_texts(x_train)\n",
        "\n",
        "train_sequence = tokenizer.texts_to_sequences(x_train)\n",
        "\n",
        "#test_sequence = tokenizer.texts_to_sequences(x_test)"
      ],
      "metadata": {
        "id": "aQH6yJ4wWgMu"
      },
      "execution_count": null,
      "outputs": []
    },
    {
      "cell_type": "code",
      "source": [
        "from tensorflow.keras.preprocessing.sequence import pad_sequences\n",
        "padded_train = pad_sequences(train_sequence,maxlen=2, padding = 'post')"
      ],
      "metadata": {
        "id": "NNjPXZHIWkEB"
      },
      "execution_count": null,
      "outputs": []
    },
    {
      "cell_type": "code",
      "source": [
        "y_train_cat = to_categorical(y_train,5)"
      ],
      "metadata": {
        "colab": {
          "base_uri": "https://localhost:8080/",
          "height": 318
        },
        "id": "5y7imRo1XlVq",
        "outputId": "5c47500c-b18c-4609-dd6d-26327789a970"
      },
      "execution_count": null,
      "outputs": [
        {
          "output_type": "error",
          "ename": "ValueError",
          "evalue": "ignored",
          "traceback": [
            "\u001b[0;31m---------------------------------------------------------------------------\u001b[0m",
            "\u001b[0;31mValueError\u001b[0m                                Traceback (most recent call last)",
            "\u001b[0;32m<ipython-input-33-2155aa1d124d>\u001b[0m in \u001b[0;36m<module>\u001b[0;34m\u001b[0m\n\u001b[0;32m----> 1\u001b[0;31m \u001b[0my_train_cat\u001b[0m \u001b[0;34m=\u001b[0m \u001b[0mto_categorical\u001b[0m\u001b[0;34m(\u001b[0m\u001b[0my_train\u001b[0m\u001b[0;34m,\u001b[0m\u001b[0;36m5\u001b[0m\u001b[0;34m)\u001b[0m\u001b[0;34m\u001b[0m\u001b[0;34m\u001b[0m\u001b[0m\n\u001b[0m",
            "\u001b[0;32m/usr/local/lib/python3.7/dist-packages/keras/utils/np_utils.py\u001b[0m in \u001b[0;36mto_categorical\u001b[0;34m(y, num_classes, dtype)\u001b[0m\n\u001b[1;32m     60\u001b[0m   \u001b[0;34m[\u001b[0m\u001b[0;36m0.\u001b[0m \u001b[0;36m0.\u001b[0m \u001b[0;36m0.\u001b[0m \u001b[0;36m0.\u001b[0m\u001b[0;34m]\u001b[0m\u001b[0;34m\u001b[0m\u001b[0;34m\u001b[0m\u001b[0m\n\u001b[1;32m     61\u001b[0m   \"\"\"\n\u001b[0;32m---> 62\u001b[0;31m   \u001b[0my\u001b[0m \u001b[0;34m=\u001b[0m \u001b[0mnp\u001b[0m\u001b[0;34m.\u001b[0m\u001b[0marray\u001b[0m\u001b[0;34m(\u001b[0m\u001b[0my\u001b[0m\u001b[0;34m,\u001b[0m \u001b[0mdtype\u001b[0m\u001b[0;34m=\u001b[0m\u001b[0;34m'int'\u001b[0m\u001b[0;34m)\u001b[0m\u001b[0;34m\u001b[0m\u001b[0;34m\u001b[0m\u001b[0m\n\u001b[0m\u001b[1;32m     63\u001b[0m   \u001b[0minput_shape\u001b[0m \u001b[0;34m=\u001b[0m \u001b[0my\u001b[0m\u001b[0;34m.\u001b[0m\u001b[0mshape\u001b[0m\u001b[0;34m\u001b[0m\u001b[0;34m\u001b[0m\u001b[0m\n\u001b[1;32m     64\u001b[0m   \u001b[0;32mif\u001b[0m \u001b[0minput_shape\u001b[0m \u001b[0;32mand\u001b[0m \u001b[0minput_shape\u001b[0m\u001b[0;34m[\u001b[0m\u001b[0;34m-\u001b[0m\u001b[0;36m1\u001b[0m\u001b[0;34m]\u001b[0m \u001b[0;34m==\u001b[0m \u001b[0;36m1\u001b[0m \u001b[0;32mand\u001b[0m \u001b[0mlen\u001b[0m\u001b[0;34m(\u001b[0m\u001b[0minput_shape\u001b[0m\u001b[0;34m)\u001b[0m \u001b[0;34m>\u001b[0m \u001b[0;36m1\u001b[0m\u001b[0;34m:\u001b[0m\u001b[0;34m\u001b[0m\u001b[0;34m\u001b[0m\u001b[0m\n",
            "\u001b[0;32m/usr/local/lib/python3.7/dist-packages/pandas/core/series.py\u001b[0m in \u001b[0;36m__array__\u001b[0;34m(self, dtype)\u001b[0m\n\u001b[1;32m    855\u001b[0m               dtype='datetime64[ns]')\n\u001b[1;32m    856\u001b[0m         \"\"\"\n\u001b[0;32m--> 857\u001b[0;31m         \u001b[0;32mreturn\u001b[0m \u001b[0mnp\u001b[0m\u001b[0;34m.\u001b[0m\u001b[0masarray\u001b[0m\u001b[0;34m(\u001b[0m\u001b[0mself\u001b[0m\u001b[0;34m.\u001b[0m\u001b[0m_values\u001b[0m\u001b[0;34m,\u001b[0m \u001b[0mdtype\u001b[0m\u001b[0;34m)\u001b[0m\u001b[0;34m\u001b[0m\u001b[0;34m\u001b[0m\u001b[0m\n\u001b[0m\u001b[1;32m    858\u001b[0m \u001b[0;34m\u001b[0m\u001b[0m\n\u001b[1;32m    859\u001b[0m     \u001b[0;31m# ----------------------------------------------------------------------\u001b[0m\u001b[0;34m\u001b[0m\u001b[0;34m\u001b[0m\u001b[0;34m\u001b[0m\u001b[0m\n",
            "\u001b[0;31mValueError\u001b[0m: invalid literal for int() with base 10: 'B-B-B-B-B-B'"
          ]
        }
      ]
    }
  ]
}