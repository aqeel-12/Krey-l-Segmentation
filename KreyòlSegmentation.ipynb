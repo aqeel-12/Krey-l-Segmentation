{
  "nbformat": 4,
  "nbformat_minor": 0,
  "metadata": {
    "colab": {
      "provenance": [],
      "collapsed_sections": []
    },
    "kernelspec": {
      "name": "python3",
      "display_name": "Python 3"
    },
    "language_info": {
      "name": "python"
    }
  },
  "cells": [
    {
      "cell_type": "markdown",
      "source": [
        "Load Training Data File"
      ],
      "metadata": {
        "id": "G75sRpSn0qe_"
      }
    },
    {
      "cell_type": "code",
      "execution_count": 135,
      "metadata": {
        "id": "sxGH4b672hIB"
      },
      "outputs": [],
      "source": [
        "import pandas as pd\n",
        "import nltk\n",
        "from sklearn.model_selection import train_test_split\n",
        "data=pd.read_csv('train.tsv', sep='\\t',header=None)\n"
      ]
    },
    {
      "cell_type": "markdown",
      "source": [
        "Data Cleaning"
      ],
      "metadata": {
        "id": "xTjfnaog0w6f"
      }
    },
    {
      "cell_type": "code",
      "source": [
        "data.dropna(inplace=True)\n",
        "data.reset_index(drop=True, inplace=True)"
      ],
      "metadata": {
        "id": "L5_fBWjk_I_L"
      },
      "execution_count": 136,
      "outputs": []
    },
    {
      "cell_type": "code",
      "source": [
        "data"
      ],
      "metadata": {
        "colab": {
          "base_uri": "https://localhost:8080/",
          "height": 424
        },
        "id": "R4pVLdENF-qB",
        "outputId": "f490d026-fdfc-4b35-b311-4c9772cdffc7"
      },
      "execution_count": 137,
      "outputs": [
        {
          "output_type": "execute_result",
          "data": {
            "text/plain": [
              "                      0                                1\n",
              "0             konsiltan                  k-on-s-i-l-t-an\n",
              "1               depotwa                    d-e-p-o-t-w-a\n",
              "2      sosyopwofesyonèl  s-o-s-y-o-p-w-o-f-e-s-y-o-n-è-l\n",
              "3               vejetal                    v-e-j-e-t-a-l\n",
              "4             repibliye                r-e-p-i-b-l-i-y-e\n",
              "...                 ...                              ...\n",
              "12806              Remi                          R-e-m-i\n",
              "12807     diskriminatwa        d-i-s-k-r-i-m-i-n-a-t-w-a\n",
              "12808              rejè                          r-e-j-è\n",
              "12809             manzè                         m-an-z-è\n",
              "12810            trimès                      t-r-i-m-è-s\n",
              "\n",
              "[12811 rows x 2 columns]"
            ],
            "text/html": [
              "\n",
              "  <div id=\"df-29558453-627e-426d-a05e-bead1f7820eb\">\n",
              "    <div class=\"colab-df-container\">\n",
              "      <div>\n",
              "<style scoped>\n",
              "    .dataframe tbody tr th:only-of-type {\n",
              "        vertical-align: middle;\n",
              "    }\n",
              "\n",
              "    .dataframe tbody tr th {\n",
              "        vertical-align: top;\n",
              "    }\n",
              "\n",
              "    .dataframe thead th {\n",
              "        text-align: right;\n",
              "    }\n",
              "</style>\n",
              "<table border=\"1\" class=\"dataframe\">\n",
              "  <thead>\n",
              "    <tr style=\"text-align: right;\">\n",
              "      <th></th>\n",
              "      <th>0</th>\n",
              "      <th>1</th>\n",
              "    </tr>\n",
              "  </thead>\n",
              "  <tbody>\n",
              "    <tr>\n",
              "      <th>0</th>\n",
              "      <td>konsiltan</td>\n",
              "      <td>k-on-s-i-l-t-an</td>\n",
              "    </tr>\n",
              "    <tr>\n",
              "      <th>1</th>\n",
              "      <td>depotwa</td>\n",
              "      <td>d-e-p-o-t-w-a</td>\n",
              "    </tr>\n",
              "    <tr>\n",
              "      <th>2</th>\n",
              "      <td>sosyopwofesyonèl</td>\n",
              "      <td>s-o-s-y-o-p-w-o-f-e-s-y-o-n-è-l</td>\n",
              "    </tr>\n",
              "    <tr>\n",
              "      <th>3</th>\n",
              "      <td>vejetal</td>\n",
              "      <td>v-e-j-e-t-a-l</td>\n",
              "    </tr>\n",
              "    <tr>\n",
              "      <th>4</th>\n",
              "      <td>repibliye</td>\n",
              "      <td>r-e-p-i-b-l-i-y-e</td>\n",
              "    </tr>\n",
              "    <tr>\n",
              "      <th>...</th>\n",
              "      <td>...</td>\n",
              "      <td>...</td>\n",
              "    </tr>\n",
              "    <tr>\n",
              "      <th>12806</th>\n",
              "      <td>Remi</td>\n",
              "      <td>R-e-m-i</td>\n",
              "    </tr>\n",
              "    <tr>\n",
              "      <th>12807</th>\n",
              "      <td>diskriminatwa</td>\n",
              "      <td>d-i-s-k-r-i-m-i-n-a-t-w-a</td>\n",
              "    </tr>\n",
              "    <tr>\n",
              "      <th>12808</th>\n",
              "      <td>rejè</td>\n",
              "      <td>r-e-j-è</td>\n",
              "    </tr>\n",
              "    <tr>\n",
              "      <th>12809</th>\n",
              "      <td>manzè</td>\n",
              "      <td>m-an-z-è</td>\n",
              "    </tr>\n",
              "    <tr>\n",
              "      <th>12810</th>\n",
              "      <td>trimès</td>\n",
              "      <td>t-r-i-m-è-s</td>\n",
              "    </tr>\n",
              "  </tbody>\n",
              "</table>\n",
              "<p>12811 rows × 2 columns</p>\n",
              "</div>\n",
              "      <button class=\"colab-df-convert\" onclick=\"convertToInteractive('df-29558453-627e-426d-a05e-bead1f7820eb')\"\n",
              "              title=\"Convert this dataframe to an interactive table.\"\n",
              "              style=\"display:none;\">\n",
              "        \n",
              "  <svg xmlns=\"http://www.w3.org/2000/svg\" height=\"24px\"viewBox=\"0 0 24 24\"\n",
              "       width=\"24px\">\n",
              "    <path d=\"M0 0h24v24H0V0z\" fill=\"none\"/>\n",
              "    <path d=\"M18.56 5.44l.94 2.06.94-2.06 2.06-.94-2.06-.94-.94-2.06-.94 2.06-2.06.94zm-11 1L8.5 8.5l.94-2.06 2.06-.94-2.06-.94L8.5 2.5l-.94 2.06-2.06.94zm10 10l.94 2.06.94-2.06 2.06-.94-2.06-.94-.94-2.06-.94 2.06-2.06.94z\"/><path d=\"M17.41 7.96l-1.37-1.37c-.4-.4-.92-.59-1.43-.59-.52 0-1.04.2-1.43.59L10.3 9.45l-7.72 7.72c-.78.78-.78 2.05 0 2.83L4 21.41c.39.39.9.59 1.41.59.51 0 1.02-.2 1.41-.59l7.78-7.78 2.81-2.81c.8-.78.8-2.07 0-2.86zM5.41 20L4 18.59l7.72-7.72 1.47 1.35L5.41 20z\"/>\n",
              "  </svg>\n",
              "      </button>\n",
              "      \n",
              "  <style>\n",
              "    .colab-df-container {\n",
              "      display:flex;\n",
              "      flex-wrap:wrap;\n",
              "      gap: 12px;\n",
              "    }\n",
              "\n",
              "    .colab-df-convert {\n",
              "      background-color: #E8F0FE;\n",
              "      border: none;\n",
              "      border-radius: 50%;\n",
              "      cursor: pointer;\n",
              "      display: none;\n",
              "      fill: #1967D2;\n",
              "      height: 32px;\n",
              "      padding: 0 0 0 0;\n",
              "      width: 32px;\n",
              "    }\n",
              "\n",
              "    .colab-df-convert:hover {\n",
              "      background-color: #E2EBFA;\n",
              "      box-shadow: 0px 1px 2px rgba(60, 64, 67, 0.3), 0px 1px 3px 1px rgba(60, 64, 67, 0.15);\n",
              "      fill: #174EA6;\n",
              "    }\n",
              "\n",
              "    [theme=dark] .colab-df-convert {\n",
              "      background-color: #3B4455;\n",
              "      fill: #D2E3FC;\n",
              "    }\n",
              "\n",
              "    [theme=dark] .colab-df-convert:hover {\n",
              "      background-color: #434B5C;\n",
              "      box-shadow: 0px 1px 3px 1px rgba(0, 0, 0, 0.15);\n",
              "      filter: drop-shadow(0px 1px 2px rgba(0, 0, 0, 0.3));\n",
              "      fill: #FFFFFF;\n",
              "    }\n",
              "  </style>\n",
              "\n",
              "      <script>\n",
              "        const buttonEl =\n",
              "          document.querySelector('#df-29558453-627e-426d-a05e-bead1f7820eb button.colab-df-convert');\n",
              "        buttonEl.style.display =\n",
              "          google.colab.kernel.accessAllowed ? 'block' : 'none';\n",
              "\n",
              "        async function convertToInteractive(key) {\n",
              "          const element = document.querySelector('#df-29558453-627e-426d-a05e-bead1f7820eb');\n",
              "          const dataTable =\n",
              "            await google.colab.kernel.invokeFunction('convertToInteractive',\n",
              "                                                     [key], {});\n",
              "          if (!dataTable) return;\n",
              "\n",
              "          const docLinkHtml = 'Like what you see? Visit the ' +\n",
              "            '<a target=\"_blank\" href=https://colab.research.google.com/notebooks/data_table.ipynb>data table notebook</a>'\n",
              "            + ' to learn more about interactive tables.';\n",
              "          element.innerHTML = '';\n",
              "          dataTable['output_type'] = 'display_data';\n",
              "          await google.colab.output.renderOutput(dataTable, element);\n",
              "          const docLink = document.createElement('div');\n",
              "          docLink.innerHTML = docLinkHtml;\n",
              "          element.appendChild(docLink);\n",
              "        }\n",
              "      </script>\n",
              "    </div>\n",
              "  </div>\n",
              "  "
            ]
          },
          "metadata": {},
          "execution_count": 137
        }
      ]
    },
    {
      "cell_type": "markdown",
      "source": [
        "Add separate columns to the orignal dataframe for data manipulation"
      ],
      "metadata": {
        "id": "HVho8W7r0-d0"
      }
    },
    {
      "cell_type": "code",
      "source": [
        "data.columns=['words','labels']\n",
        "data['tagged_labels'] = data.apply(lambda _: '', axis=1)\n",
        "data['train_words']=data.apply(lambda _: '', axis=1)\n"
      ],
      "metadata": {
        "id": "QX5_pxy03d4m"
      },
      "execution_count": 138,
      "outputs": []
    },
    {
      "cell_type": "markdown",
      "source": [
        "Function to convert labels into tagged labels "
      ],
      "metadata": {
        "id": "h-xUbFAx1PRu"
      }
    },
    {
      "cell_type": "code",
      "source": [
        "def conv_to_tags(word):\n",
        "  lis_grapheme=list(word.split(\"-\"))\n",
        "  label_lis=[]\n",
        "  for x in lis_grapheme:\n",
        "    if len(x)==2:\n",
        "      label_lis.append(x[0].replace(x[0],\"B\"))\n",
        "      label_lis.append(x[1].replace(x[1],\"I\"))\n",
        "    elif len(x)==3:\n",
        "      label_lis.append(x[0].replace(x[0],\"B\"))\n",
        "      label_lis.append(x[1].replace(x[1],\"I\"))\n",
        "      label_lis.append(x[2].replace(x[2],\"I\"))\n",
        "    else:\n",
        "      label_lis.append(\"B\")\n",
        "\n",
        "  string_lis=''.join(label_lis)    \n",
        "  string=''+string_lis[0]\n",
        "  for x in range(1,len(string_lis)):\n",
        "    if string_lis[x]==\"B\":\n",
        "      string+=string_lis[x].replace(string_lis[x],'-B')\n",
        "    else:\n",
        "      string+=string_lis[x].replace(string_lis[x],'-I')   \n",
        "      #print(string_lis[x])\n",
        "  return string\n"
      ],
      "metadata": {
        "id": "75fxTFErdSGU"
      },
      "execution_count": 139,
      "outputs": []
    },
    {
      "cell_type": "markdown",
      "source": [
        "Function to convert each input word into individual letters"
      ],
      "metadata": {
        "id": "7K_Z8f7b1dHx"
      }
    },
    {
      "cell_type": "code",
      "source": [
        "def words_conv(word):\n",
        "  string=''+word[0]\n",
        "  for x in range(1,len(word)):\n",
        "    string+=word[x].replace(word[x],'-'+word[x])\n",
        "  return string"
      ],
      "metadata": {
        "id": "XLFNZdkI66EA"
      },
      "execution_count": 140,
      "outputs": []
    },
    {
      "cell_type": "code",
      "source": [
        "word='mason'\n",
        "words_conv(word)"
      ],
      "metadata": {
        "colab": {
          "base_uri": "https://localhost:8080/",
          "height": 35
        },
        "id": "FNCEImUZ84O9",
        "outputId": "cb85d027-a410-427a-98e6-afe5d1a28fbd"
      },
      "execution_count": 141,
      "outputs": [
        {
          "output_type": "execute_result",
          "data": {
            "text/plain": [
              "'m-a-s-o-n'"
            ],
            "application/vnd.google.colaboratory.intrinsic+json": {
              "type": "string"
            }
          },
          "metadata": {},
          "execution_count": 141
        }
      ]
    },
    {
      "cell_type": "code",
      "source": [
        "word='m-a-s-on'\n",
        "print(conv_to_tags(word))"
      ],
      "metadata": {
        "colab": {
          "base_uri": "https://localhost:8080/"
        },
        "id": "w5wip9RqwJPX",
        "outputId": "1722018d-8c5c-4fe9-e956-ef25a2b2c765"
      },
      "execution_count": 142,
      "outputs": [
        {
          "output_type": "stream",
          "name": "stdout",
          "text": [
            "B-B-B-B-I\n"
          ]
        }
      ]
    },
    {
      "cell_type": "markdown",
      "source": [
        "Add updated columns to orignal dataframe"
      ],
      "metadata": {
        "id": "YlM8SAKr10ok"
      }
    },
    {
      "cell_type": "code",
      "source": [
        "for x in range(len(data['labels'])):\n",
        "  data['tagged_labels'][x]=conv_to_tags(data['labels'][x])\n",
        "for x in range(len(data['words'])):\n",
        "  data['train_words'][x]=words_conv(data['words'][x]) "
      ],
      "metadata": {
        "id": "KVTvz5zklAFf"
      },
      "execution_count": 143,
      "outputs": []
    },
    {
      "cell_type": "code",
      "source": [
        "data"
      ],
      "metadata": {
        "colab": {
          "base_uri": "https://localhost:8080/",
          "height": 424
        },
        "id": "LfLEVYik9nUZ",
        "outputId": "31aaeaad-8fa1-4ec2-eb43-c6e51cbbcfb5"
      },
      "execution_count": 144,
      "outputs": [
        {
          "output_type": "execute_result",
          "data": {
            "text/plain": [
              "                  words                           labels  \\\n",
              "0             konsiltan                  k-on-s-i-l-t-an   \n",
              "1               depotwa                    d-e-p-o-t-w-a   \n",
              "2      sosyopwofesyonèl  s-o-s-y-o-p-w-o-f-e-s-y-o-n-è-l   \n",
              "3               vejetal                    v-e-j-e-t-a-l   \n",
              "4             repibliye                r-e-p-i-b-l-i-y-e   \n",
              "...                 ...                              ...   \n",
              "12806              Remi                          R-e-m-i   \n",
              "12807     diskriminatwa        d-i-s-k-r-i-m-i-n-a-t-w-a   \n",
              "12808              rejè                          r-e-j-è   \n",
              "12809             manzè                         m-an-z-è   \n",
              "12810            trimès                      t-r-i-m-è-s   \n",
              "\n",
              "                         tagged_labels                      train_words  \n",
              "0                    B-B-I-B-B-B-B-B-I                k-o-n-s-i-l-t-a-n  \n",
              "1                        B-B-B-B-B-B-B                    d-e-p-o-t-w-a  \n",
              "2      B-B-B-B-B-B-B-B-B-B-B-B-B-B-B-B  s-o-s-y-o-p-w-o-f-e-s-y-o-n-è-l  \n",
              "3                        B-B-B-B-B-B-B                    v-e-j-e-t-a-l  \n",
              "4                    B-B-B-B-B-B-B-B-B                r-e-p-i-b-l-i-y-e  \n",
              "...                                ...                              ...  \n",
              "12806                          B-B-B-B                          R-e-m-i  \n",
              "12807        B-B-B-B-B-B-B-B-B-B-B-B-B        d-i-s-k-r-i-m-i-n-a-t-w-a  \n",
              "12808                          B-B-B-B                          r-e-j-è  \n",
              "12809                        B-B-I-B-B                        m-a-n-z-è  \n",
              "12810                      B-B-B-B-B-B                      t-r-i-m-è-s  \n",
              "\n",
              "[12811 rows x 4 columns]"
            ],
            "text/html": [
              "\n",
              "  <div id=\"df-42536495-58c1-4718-acf9-3868d5a7cab7\">\n",
              "    <div class=\"colab-df-container\">\n",
              "      <div>\n",
              "<style scoped>\n",
              "    .dataframe tbody tr th:only-of-type {\n",
              "        vertical-align: middle;\n",
              "    }\n",
              "\n",
              "    .dataframe tbody tr th {\n",
              "        vertical-align: top;\n",
              "    }\n",
              "\n",
              "    .dataframe thead th {\n",
              "        text-align: right;\n",
              "    }\n",
              "</style>\n",
              "<table border=\"1\" class=\"dataframe\">\n",
              "  <thead>\n",
              "    <tr style=\"text-align: right;\">\n",
              "      <th></th>\n",
              "      <th>words</th>\n",
              "      <th>labels</th>\n",
              "      <th>tagged_labels</th>\n",
              "      <th>train_words</th>\n",
              "    </tr>\n",
              "  </thead>\n",
              "  <tbody>\n",
              "    <tr>\n",
              "      <th>0</th>\n",
              "      <td>konsiltan</td>\n",
              "      <td>k-on-s-i-l-t-an</td>\n",
              "      <td>B-B-I-B-B-B-B-B-I</td>\n",
              "      <td>k-o-n-s-i-l-t-a-n</td>\n",
              "    </tr>\n",
              "    <tr>\n",
              "      <th>1</th>\n",
              "      <td>depotwa</td>\n",
              "      <td>d-e-p-o-t-w-a</td>\n",
              "      <td>B-B-B-B-B-B-B</td>\n",
              "      <td>d-e-p-o-t-w-a</td>\n",
              "    </tr>\n",
              "    <tr>\n",
              "      <th>2</th>\n",
              "      <td>sosyopwofesyonèl</td>\n",
              "      <td>s-o-s-y-o-p-w-o-f-e-s-y-o-n-è-l</td>\n",
              "      <td>B-B-B-B-B-B-B-B-B-B-B-B-B-B-B-B</td>\n",
              "      <td>s-o-s-y-o-p-w-o-f-e-s-y-o-n-è-l</td>\n",
              "    </tr>\n",
              "    <tr>\n",
              "      <th>3</th>\n",
              "      <td>vejetal</td>\n",
              "      <td>v-e-j-e-t-a-l</td>\n",
              "      <td>B-B-B-B-B-B-B</td>\n",
              "      <td>v-e-j-e-t-a-l</td>\n",
              "    </tr>\n",
              "    <tr>\n",
              "      <th>4</th>\n",
              "      <td>repibliye</td>\n",
              "      <td>r-e-p-i-b-l-i-y-e</td>\n",
              "      <td>B-B-B-B-B-B-B-B-B</td>\n",
              "      <td>r-e-p-i-b-l-i-y-e</td>\n",
              "    </tr>\n",
              "    <tr>\n",
              "      <th>...</th>\n",
              "      <td>...</td>\n",
              "      <td>...</td>\n",
              "      <td>...</td>\n",
              "      <td>...</td>\n",
              "    </tr>\n",
              "    <tr>\n",
              "      <th>12806</th>\n",
              "      <td>Remi</td>\n",
              "      <td>R-e-m-i</td>\n",
              "      <td>B-B-B-B</td>\n",
              "      <td>R-e-m-i</td>\n",
              "    </tr>\n",
              "    <tr>\n",
              "      <th>12807</th>\n",
              "      <td>diskriminatwa</td>\n",
              "      <td>d-i-s-k-r-i-m-i-n-a-t-w-a</td>\n",
              "      <td>B-B-B-B-B-B-B-B-B-B-B-B-B</td>\n",
              "      <td>d-i-s-k-r-i-m-i-n-a-t-w-a</td>\n",
              "    </tr>\n",
              "    <tr>\n",
              "      <th>12808</th>\n",
              "      <td>rejè</td>\n",
              "      <td>r-e-j-è</td>\n",
              "      <td>B-B-B-B</td>\n",
              "      <td>r-e-j-è</td>\n",
              "    </tr>\n",
              "    <tr>\n",
              "      <th>12809</th>\n",
              "      <td>manzè</td>\n",
              "      <td>m-an-z-è</td>\n",
              "      <td>B-B-I-B-B</td>\n",
              "      <td>m-a-n-z-è</td>\n",
              "    </tr>\n",
              "    <tr>\n",
              "      <th>12810</th>\n",
              "      <td>trimès</td>\n",
              "      <td>t-r-i-m-è-s</td>\n",
              "      <td>B-B-B-B-B-B</td>\n",
              "      <td>t-r-i-m-è-s</td>\n",
              "    </tr>\n",
              "  </tbody>\n",
              "</table>\n",
              "<p>12811 rows × 4 columns</p>\n",
              "</div>\n",
              "      <button class=\"colab-df-convert\" onclick=\"convertToInteractive('df-42536495-58c1-4718-acf9-3868d5a7cab7')\"\n",
              "              title=\"Convert this dataframe to an interactive table.\"\n",
              "              style=\"display:none;\">\n",
              "        \n",
              "  <svg xmlns=\"http://www.w3.org/2000/svg\" height=\"24px\"viewBox=\"0 0 24 24\"\n",
              "       width=\"24px\">\n",
              "    <path d=\"M0 0h24v24H0V0z\" fill=\"none\"/>\n",
              "    <path d=\"M18.56 5.44l.94 2.06.94-2.06 2.06-.94-2.06-.94-.94-2.06-.94 2.06-2.06.94zm-11 1L8.5 8.5l.94-2.06 2.06-.94-2.06-.94L8.5 2.5l-.94 2.06-2.06.94zm10 10l.94 2.06.94-2.06 2.06-.94-2.06-.94-.94-2.06-.94 2.06-2.06.94z\"/><path d=\"M17.41 7.96l-1.37-1.37c-.4-.4-.92-.59-1.43-.59-.52 0-1.04.2-1.43.59L10.3 9.45l-7.72 7.72c-.78.78-.78 2.05 0 2.83L4 21.41c.39.39.9.59 1.41.59.51 0 1.02-.2 1.41-.59l7.78-7.78 2.81-2.81c.8-.78.8-2.07 0-2.86zM5.41 20L4 18.59l7.72-7.72 1.47 1.35L5.41 20z\"/>\n",
              "  </svg>\n",
              "      </button>\n",
              "      \n",
              "  <style>\n",
              "    .colab-df-container {\n",
              "      display:flex;\n",
              "      flex-wrap:wrap;\n",
              "      gap: 12px;\n",
              "    }\n",
              "\n",
              "    .colab-df-convert {\n",
              "      background-color: #E8F0FE;\n",
              "      border: none;\n",
              "      border-radius: 50%;\n",
              "      cursor: pointer;\n",
              "      display: none;\n",
              "      fill: #1967D2;\n",
              "      height: 32px;\n",
              "      padding: 0 0 0 0;\n",
              "      width: 32px;\n",
              "    }\n",
              "\n",
              "    .colab-df-convert:hover {\n",
              "      background-color: #E2EBFA;\n",
              "      box-shadow: 0px 1px 2px rgba(60, 64, 67, 0.3), 0px 1px 3px 1px rgba(60, 64, 67, 0.15);\n",
              "      fill: #174EA6;\n",
              "    }\n",
              "\n",
              "    [theme=dark] .colab-df-convert {\n",
              "      background-color: #3B4455;\n",
              "      fill: #D2E3FC;\n",
              "    }\n",
              "\n",
              "    [theme=dark] .colab-df-convert:hover {\n",
              "      background-color: #434B5C;\n",
              "      box-shadow: 0px 1px 3px 1px rgba(0, 0, 0, 0.15);\n",
              "      filter: drop-shadow(0px 1px 2px rgba(0, 0, 0, 0.3));\n",
              "      fill: #FFFFFF;\n",
              "    }\n",
              "  </style>\n",
              "\n",
              "      <script>\n",
              "        const buttonEl =\n",
              "          document.querySelector('#df-42536495-58c1-4718-acf9-3868d5a7cab7 button.colab-df-convert');\n",
              "        buttonEl.style.display =\n",
              "          google.colab.kernel.accessAllowed ? 'block' : 'none';\n",
              "\n",
              "        async function convertToInteractive(key) {\n",
              "          const element = document.querySelector('#df-42536495-58c1-4718-acf9-3868d5a7cab7');\n",
              "          const dataTable =\n",
              "            await google.colab.kernel.invokeFunction('convertToInteractive',\n",
              "                                                     [key], {});\n",
              "          if (!dataTable) return;\n",
              "\n",
              "          const docLinkHtml = 'Like what you see? Visit the ' +\n",
              "            '<a target=\"_blank\" href=https://colab.research.google.com/notebooks/data_table.ipynb>data table notebook</a>'\n",
              "            + ' to learn more about interactive tables.';\n",
              "          element.innerHTML = '';\n",
              "          dataTable['output_type'] = 'display_data';\n",
              "          await google.colab.output.renderOutput(dataTable, element);\n",
              "          const docLink = document.createElement('div');\n",
              "          docLink.innerHTML = docLinkHtml;\n",
              "          element.appendChild(docLink);\n",
              "        }\n",
              "      </script>\n",
              "    </div>\n",
              "  </div>\n",
              "  "
            ]
          },
          "metadata": {},
          "execution_count": 144
        }
      ]
    },
    {
      "cell_type": "code",
      "source": [
        "updated_data=data[['train_words','tagged_labels']]\n",
        "updated_data"
      ],
      "metadata": {
        "colab": {
          "base_uri": "https://localhost:8080/",
          "height": 424
        },
        "id": "l526KNDMmjbK",
        "outputId": "1a0f8139-f54c-4a2f-f5a0-e4aafa30d3d4"
      },
      "execution_count": 145,
      "outputs": [
        {
          "output_type": "execute_result",
          "data": {
            "text/plain": [
              "                           train_words                    tagged_labels\n",
              "0                    k-o-n-s-i-l-t-a-n                B-B-I-B-B-B-B-B-I\n",
              "1                        d-e-p-o-t-w-a                    B-B-B-B-B-B-B\n",
              "2      s-o-s-y-o-p-w-o-f-e-s-y-o-n-è-l  B-B-B-B-B-B-B-B-B-B-B-B-B-B-B-B\n",
              "3                        v-e-j-e-t-a-l                    B-B-B-B-B-B-B\n",
              "4                    r-e-p-i-b-l-i-y-e                B-B-B-B-B-B-B-B-B\n",
              "...                                ...                              ...\n",
              "12806                          R-e-m-i                          B-B-B-B\n",
              "12807        d-i-s-k-r-i-m-i-n-a-t-w-a        B-B-B-B-B-B-B-B-B-B-B-B-B\n",
              "12808                          r-e-j-è                          B-B-B-B\n",
              "12809                        m-a-n-z-è                        B-B-I-B-B\n",
              "12810                      t-r-i-m-è-s                      B-B-B-B-B-B\n",
              "\n",
              "[12811 rows x 2 columns]"
            ],
            "text/html": [
              "\n",
              "  <div id=\"df-ebf3c6ac-4a64-48a1-be7c-8671488dd4fe\">\n",
              "    <div class=\"colab-df-container\">\n",
              "      <div>\n",
              "<style scoped>\n",
              "    .dataframe tbody tr th:only-of-type {\n",
              "        vertical-align: middle;\n",
              "    }\n",
              "\n",
              "    .dataframe tbody tr th {\n",
              "        vertical-align: top;\n",
              "    }\n",
              "\n",
              "    .dataframe thead th {\n",
              "        text-align: right;\n",
              "    }\n",
              "</style>\n",
              "<table border=\"1\" class=\"dataframe\">\n",
              "  <thead>\n",
              "    <tr style=\"text-align: right;\">\n",
              "      <th></th>\n",
              "      <th>train_words</th>\n",
              "      <th>tagged_labels</th>\n",
              "    </tr>\n",
              "  </thead>\n",
              "  <tbody>\n",
              "    <tr>\n",
              "      <th>0</th>\n",
              "      <td>k-o-n-s-i-l-t-a-n</td>\n",
              "      <td>B-B-I-B-B-B-B-B-I</td>\n",
              "    </tr>\n",
              "    <tr>\n",
              "      <th>1</th>\n",
              "      <td>d-e-p-o-t-w-a</td>\n",
              "      <td>B-B-B-B-B-B-B</td>\n",
              "    </tr>\n",
              "    <tr>\n",
              "      <th>2</th>\n",
              "      <td>s-o-s-y-o-p-w-o-f-e-s-y-o-n-è-l</td>\n",
              "      <td>B-B-B-B-B-B-B-B-B-B-B-B-B-B-B-B</td>\n",
              "    </tr>\n",
              "    <tr>\n",
              "      <th>3</th>\n",
              "      <td>v-e-j-e-t-a-l</td>\n",
              "      <td>B-B-B-B-B-B-B</td>\n",
              "    </tr>\n",
              "    <tr>\n",
              "      <th>4</th>\n",
              "      <td>r-e-p-i-b-l-i-y-e</td>\n",
              "      <td>B-B-B-B-B-B-B-B-B</td>\n",
              "    </tr>\n",
              "    <tr>\n",
              "      <th>...</th>\n",
              "      <td>...</td>\n",
              "      <td>...</td>\n",
              "    </tr>\n",
              "    <tr>\n",
              "      <th>12806</th>\n",
              "      <td>R-e-m-i</td>\n",
              "      <td>B-B-B-B</td>\n",
              "    </tr>\n",
              "    <tr>\n",
              "      <th>12807</th>\n",
              "      <td>d-i-s-k-r-i-m-i-n-a-t-w-a</td>\n",
              "      <td>B-B-B-B-B-B-B-B-B-B-B-B-B</td>\n",
              "    </tr>\n",
              "    <tr>\n",
              "      <th>12808</th>\n",
              "      <td>r-e-j-è</td>\n",
              "      <td>B-B-B-B</td>\n",
              "    </tr>\n",
              "    <tr>\n",
              "      <th>12809</th>\n",
              "      <td>m-a-n-z-è</td>\n",
              "      <td>B-B-I-B-B</td>\n",
              "    </tr>\n",
              "    <tr>\n",
              "      <th>12810</th>\n",
              "      <td>t-r-i-m-è-s</td>\n",
              "      <td>B-B-B-B-B-B</td>\n",
              "    </tr>\n",
              "  </tbody>\n",
              "</table>\n",
              "<p>12811 rows × 2 columns</p>\n",
              "</div>\n",
              "      <button class=\"colab-df-convert\" onclick=\"convertToInteractive('df-ebf3c6ac-4a64-48a1-be7c-8671488dd4fe')\"\n",
              "              title=\"Convert this dataframe to an interactive table.\"\n",
              "              style=\"display:none;\">\n",
              "        \n",
              "  <svg xmlns=\"http://www.w3.org/2000/svg\" height=\"24px\"viewBox=\"0 0 24 24\"\n",
              "       width=\"24px\">\n",
              "    <path d=\"M0 0h24v24H0V0z\" fill=\"none\"/>\n",
              "    <path d=\"M18.56 5.44l.94 2.06.94-2.06 2.06-.94-2.06-.94-.94-2.06-.94 2.06-2.06.94zm-11 1L8.5 8.5l.94-2.06 2.06-.94-2.06-.94L8.5 2.5l-.94 2.06-2.06.94zm10 10l.94 2.06.94-2.06 2.06-.94-2.06-.94-.94-2.06-.94 2.06-2.06.94z\"/><path d=\"M17.41 7.96l-1.37-1.37c-.4-.4-.92-.59-1.43-.59-.52 0-1.04.2-1.43.59L10.3 9.45l-7.72 7.72c-.78.78-.78 2.05 0 2.83L4 21.41c.39.39.9.59 1.41.59.51 0 1.02-.2 1.41-.59l7.78-7.78 2.81-2.81c.8-.78.8-2.07 0-2.86zM5.41 20L4 18.59l7.72-7.72 1.47 1.35L5.41 20z\"/>\n",
              "  </svg>\n",
              "      </button>\n",
              "      \n",
              "  <style>\n",
              "    .colab-df-container {\n",
              "      display:flex;\n",
              "      flex-wrap:wrap;\n",
              "      gap: 12px;\n",
              "    }\n",
              "\n",
              "    .colab-df-convert {\n",
              "      background-color: #E8F0FE;\n",
              "      border: none;\n",
              "      border-radius: 50%;\n",
              "      cursor: pointer;\n",
              "      display: none;\n",
              "      fill: #1967D2;\n",
              "      height: 32px;\n",
              "      padding: 0 0 0 0;\n",
              "      width: 32px;\n",
              "    }\n",
              "\n",
              "    .colab-df-convert:hover {\n",
              "      background-color: #E2EBFA;\n",
              "      box-shadow: 0px 1px 2px rgba(60, 64, 67, 0.3), 0px 1px 3px 1px rgba(60, 64, 67, 0.15);\n",
              "      fill: #174EA6;\n",
              "    }\n",
              "\n",
              "    [theme=dark] .colab-df-convert {\n",
              "      background-color: #3B4455;\n",
              "      fill: #D2E3FC;\n",
              "    }\n",
              "\n",
              "    [theme=dark] .colab-df-convert:hover {\n",
              "      background-color: #434B5C;\n",
              "      box-shadow: 0px 1px 3px 1px rgba(0, 0, 0, 0.15);\n",
              "      filter: drop-shadow(0px 1px 2px rgba(0, 0, 0, 0.3));\n",
              "      fill: #FFFFFF;\n",
              "    }\n",
              "  </style>\n",
              "\n",
              "      <script>\n",
              "        const buttonEl =\n",
              "          document.querySelector('#df-ebf3c6ac-4a64-48a1-be7c-8671488dd4fe button.colab-df-convert');\n",
              "        buttonEl.style.display =\n",
              "          google.colab.kernel.accessAllowed ? 'block' : 'none';\n",
              "\n",
              "        async function convertToInteractive(key) {\n",
              "          const element = document.querySelector('#df-ebf3c6ac-4a64-48a1-be7c-8671488dd4fe');\n",
              "          const dataTable =\n",
              "            await google.colab.kernel.invokeFunction('convertToInteractive',\n",
              "                                                     [key], {});\n",
              "          if (!dataTable) return;\n",
              "\n",
              "          const docLinkHtml = 'Like what you see? Visit the ' +\n",
              "            '<a target=\"_blank\" href=https://colab.research.google.com/notebooks/data_table.ipynb>data table notebook</a>'\n",
              "            + ' to learn more about interactive tables.';\n",
              "          element.innerHTML = '';\n",
              "          dataTable['output_type'] = 'display_data';\n",
              "          await google.colab.output.renderOutput(dataTable, element);\n",
              "          const docLink = document.createElement('div');\n",
              "          docLink.innerHTML = docLinkHtml;\n",
              "          element.appendChild(docLink);\n",
              "        }\n",
              "      </script>\n",
              "    </div>\n",
              "  </div>\n",
              "  "
            ]
          },
          "metadata": {},
          "execution_count": 145
        }
      ]
    },
    {
      "cell_type": "code",
      "source": [
        "def data_to_lis_conv(data):\n",
        "  data_lis=[]\n",
        "  for i in range(len(data)):\n",
        "    temp=[]\n",
        "    for j in range(len(data[i])):\n",
        "      temp.append(data[i][j])\n",
        "    data_lis.append(temp)\n",
        "  return data_lis\n"
      ],
      "metadata": {
        "id": "Ga66x6I6rBS0"
      },
      "execution_count": 146,
      "outputs": []
    },
    {
      "cell_type": "code",
      "source": [
        "features_data=updated_data['train_words']\n",
        "labels_data=updated_data['tagged_labels']\n",
        "\n",
        "features=data_to_lis_conv(features_data)\n",
        "labels=data_to_lis_conv(labels_data)"
      ],
      "metadata": {
        "id": "quyRJdbBxRYJ"
      },
      "execution_count": 147,
      "outputs": []
    },
    {
      "cell_type": "code",
      "source": [
        "X_train, X_test, y_train, y_test = train_test_split(features, labels, test_size=0.1)"
      ],
      "metadata": {
        "id": "soPDrxOzzoeH"
      },
      "execution_count": 148,
      "outputs": []
    },
    {
      "cell_type": "code",
      "source": [
        "def train_test_tuples(X_train,X_test):\n",
        "  train = []\n",
        "  for i in range(len(X_train)):\n",
        "      sent = []\n",
        "      for j in range(len(X_train[i])):\n",
        "          sent.append((X_train[i][j], y_train[i][j]))\n",
        "      train.append(sent)\n",
        "  test = []\n",
        "  for i in range(len(X_test)):\n",
        "      sent = []\n",
        "      for j in range(len(X_test[i])):\n",
        "          sent.append((X_test[i][j], y_test[i][j]))\n",
        "      test.append(sent)\n",
        "  return train,test"
      ],
      "metadata": {
        "id": "8ZCyjQuvxbvE"
      },
      "execution_count": 149,
      "outputs": []
    },
    {
      "cell_type": "code",
      "source": [
        "print(train[0])\n",
        "print(test[0])"
      ],
      "metadata": {
        "colab": {
          "base_uri": "https://localhost:8080/"
        },
        "id": "_qzh5McL0Lcs",
        "outputId": "3142b5db-6de5-495f-8680-9ebde609a82e"
      },
      "execution_count": null,
      "outputs": [
        {
          "output_type": "stream",
          "name": "stdout",
          "text": [
            "[('k', 'B'), ('-', '-'), ('e', 'B'), ('-', '-'), ('n', 'I'), ('-', '-'), ('z', 'B')]\n",
            "[('e', 'B'), ('-', '-'), ('s', 'B'), ('-', '-'), ('p', 'B'), ('-', '-'), ('i', 'B'), ('-', '-'), ('r', 'B'), ('-', '-'), ('i', 'B'), ('-', '-'), ('t', 'B'), ('-', '-'), ('i', 'B'), ('-', '-'), ('s', 'B')]\n"
          ]
        }
      ]
    },
    {
      "cell_type": "code",
      "source": [
        "train,test=train_test_tuples(X_train,X_test)\n",
        "tagger = nltk.HiddenMarkovModelTagger.train(train)    "
      ],
      "metadata": {
        "id": "2WzLfn6r0Ing"
      },
      "execution_count": 150,
      "outputs": []
    },
    {
      "cell_type": "code",
      "source": [
        "print(tagger.evaluate_per_tag(test))"
      ],
      "metadata": {
        "id": "GYdbt3LpGBSY",
        "colab": {
          "base_uri": "https://localhost:8080/"
        },
        "outputId": "1490c07d-2fb0-4f66-ed6e-9a39bad170f9"
      },
      "execution_count": 156,
      "outputs": [
        {
          "output_type": "stream",
          "name": "stdout",
          "text": [
            "Tag | Prec.  | Recall | F-measure\n",
            "----+--------+--------+-----------\n",
            "  - | 1.0000 | 1.0000 | 1.0000\n",
            "  B | 0.9995 | 0.9713 | 0.9852\n",
            "  I | 0.7635 | 0.9947 | 0.8639\n",
            "\n"
          ]
        }
      ]
    }
  ]
}