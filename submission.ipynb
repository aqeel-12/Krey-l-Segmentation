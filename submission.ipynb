{
 "cells": [
  {
   "cell_type": "code",
   "execution_count": 1,
   "metadata": {},
   "outputs": [],
   "source": [
    "import numpy as np\n",
    "import pandas as pd\n",
    "from reformat import *\n",
    "from architecture.WordSegPreProcessing import *\n",
    "\n",
    "fn = \"train.tsv\"\n",
    "x, y = file_to_table(read_file(fn))\n"
   ]
  },
  {
   "cell_type": "markdown",
   "metadata": {},
   "source": [
    "## Prepping Data"
   ]
  },
  {
   "cell_type": "code",
   "execution_count": 2,
   "metadata": {},
   "outputs": [],
   "source": [
    "from sklearn.model_selection import train_test_split\n",
    "X_train, X_test, y_train, y_test = train_test_split(x, y, test_size=0.1)\n",
    "preprocessor = WordSegPreProcessing(X_train, y_train, segment_to_tag)"
   ]
  },
  {
   "cell_type": "code",
   "execution_count": 3,
   "metadata": {},
   "outputs": [],
   "source": [
    "X_train, y_train = preprocessor.x, preprocessor.y\n",
    "X_test, y_test = preprocessor.extract_pairs(X_test, y_test)\n"
   ]
  },
  {
   "cell_type": "markdown",
   "metadata": {},
   "source": [
    "## Supervised NGramTagger with Backoff"
   ]
  },
  {
   "cell_type": "code",
   "execution_count": 4,
   "metadata": {},
   "outputs": [
    {
     "name": "stderr",
     "output_type": "stream",
     "text": [
      "/Users/a8nguyen/opt/anaconda3/lib/python3.7/site-packages/sklearn/feature_extraction/image.py:167: DeprecationWarning: `np.int` is a deprecated alias for the builtin `int`. To silence this warning, use `int` by itself. Doing this will not modify any behavior and is safe. When replacing `np.int`, you may wish to use e.g. `np.int64` or `np.int32` to specify the precision. If you wish to review your current use, check the release note link for additional information.\n",
      "Deprecated in NumPy 1.20; for more details and guidance: https://numpy.org/devdocs/release/1.20.0-notes.html#deprecations\n",
      "  dtype=np.int):\n",
      "/Users/a8nguyen/opt/anaconda3/lib/python3.7/site-packages/sklearn/linear_model/least_angle.py:30: DeprecationWarning: `np.float` is a deprecated alias for the builtin `float`. To silence this warning, use `float` by itself. Doing this will not modify any behavior and is safe. If you specifically wanted the numpy scalar type, use `np.float64` here.\n",
      "Deprecated in NumPy 1.20; for more details and guidance: https://numpy.org/devdocs/release/1.20.0-notes.html#deprecations\n",
      "  method='lar', copy_X=True, eps=np.finfo(np.float).eps,\n",
      "/Users/a8nguyen/opt/anaconda3/lib/python3.7/site-packages/sklearn/linear_model/least_angle.py:167: DeprecationWarning: `np.float` is a deprecated alias for the builtin `float`. To silence this warning, use `float` by itself. Doing this will not modify any behavior and is safe. If you specifically wanted the numpy scalar type, use `np.float64` here.\n",
      "Deprecated in NumPy 1.20; for more details and guidance: https://numpy.org/devdocs/release/1.20.0-notes.html#deprecations\n",
      "  method='lar', copy_X=True, eps=np.finfo(np.float).eps,\n",
      "/Users/a8nguyen/opt/anaconda3/lib/python3.7/site-packages/sklearn/linear_model/least_angle.py:284: DeprecationWarning: `np.float` is a deprecated alias for the builtin `float`. To silence this warning, use `float` by itself. Doing this will not modify any behavior and is safe. If you specifically wanted the numpy scalar type, use `np.float64` here.\n",
      "Deprecated in NumPy 1.20; for more details and guidance: https://numpy.org/devdocs/release/1.20.0-notes.html#deprecations\n",
      "  eps=np.finfo(np.float).eps, copy_Gram=True, verbose=0,\n",
      "/Users/a8nguyen/opt/anaconda3/lib/python3.7/site-packages/sklearn/linear_model/least_angle.py:862: DeprecationWarning: `np.float` is a deprecated alias for the builtin `float`. To silence this warning, use `float` by itself. Doing this will not modify any behavior and is safe. If you specifically wanted the numpy scalar type, use `np.float64` here.\n",
      "Deprecated in NumPy 1.20; for more details and guidance: https://numpy.org/devdocs/release/1.20.0-notes.html#deprecations\n",
      "  eps=np.finfo(np.float).eps, copy_X=True, fit_path=True,\n",
      "/Users/a8nguyen/opt/anaconda3/lib/python3.7/site-packages/sklearn/linear_model/least_angle.py:1101: DeprecationWarning: `np.float` is a deprecated alias for the builtin `float`. To silence this warning, use `float` by itself. Doing this will not modify any behavior and is safe. If you specifically wanted the numpy scalar type, use `np.float64` here.\n",
      "Deprecated in NumPy 1.20; for more details and guidance: https://numpy.org/devdocs/release/1.20.0-notes.html#deprecations\n",
      "  eps=np.finfo(np.float).eps, copy_X=True, fit_path=True,\n",
      "/Users/a8nguyen/opt/anaconda3/lib/python3.7/site-packages/sklearn/linear_model/least_angle.py:1127: DeprecationWarning: `np.float` is a deprecated alias for the builtin `float`. To silence this warning, use `float` by itself. Doing this will not modify any behavior and is safe. If you specifically wanted the numpy scalar type, use `np.float64` here.\n",
      "Deprecated in NumPy 1.20; for more details and guidance: https://numpy.org/devdocs/release/1.20.0-notes.html#deprecations\n",
      "  eps=np.finfo(np.float).eps, positive=False):\n",
      "/Users/a8nguyen/opt/anaconda3/lib/python3.7/site-packages/sklearn/linear_model/least_angle.py:1362: DeprecationWarning: `np.float` is a deprecated alias for the builtin `float`. To silence this warning, use `float` by itself. Doing this will not modify any behavior and is safe. If you specifically wanted the numpy scalar type, use `np.float64` here.\n",
      "Deprecated in NumPy 1.20; for more details and guidance: https://numpy.org/devdocs/release/1.20.0-notes.html#deprecations\n",
      "  max_n_alphas=1000, n_jobs=None, eps=np.finfo(np.float).eps,\n",
      "/Users/a8nguyen/opt/anaconda3/lib/python3.7/site-packages/sklearn/linear_model/least_angle.py:1602: DeprecationWarning: `np.float` is a deprecated alias for the builtin `float`. To silence this warning, use `float` by itself. Doing this will not modify any behavior and is safe. If you specifically wanted the numpy scalar type, use `np.float64` here.\n",
      "Deprecated in NumPy 1.20; for more details and guidance: https://numpy.org/devdocs/release/1.20.0-notes.html#deprecations\n",
      "  max_n_alphas=1000, n_jobs=None, eps=np.finfo(np.float).eps,\n",
      "/Users/a8nguyen/opt/anaconda3/lib/python3.7/site-packages/sklearn/linear_model/least_angle.py:1738: DeprecationWarning: `np.float` is a deprecated alias for the builtin `float`. To silence this warning, use `float` by itself. Doing this will not modify any behavior and is safe. If you specifically wanted the numpy scalar type, use `np.float64` here.\n",
      "Deprecated in NumPy 1.20; for more details and guidance: https://numpy.org/devdocs/release/1.20.0-notes.html#deprecations\n",
      "  eps=np.finfo(np.float).eps, copy_X=True, positive=False):\n"
     ]
    },
    {
     "data": {
      "text/plain": [
       "0.9065628476084538"
      ]
     },
     "execution_count": 4,
     "metadata": {},
     "output_type": "execute_result"
    }
   ],
   "source": [
    "from architecture.NgramSupervisedTagger import NGramSupervisedTagger\n",
    "ng = NGramSupervisedTagger(X_train, y_train, ngram_choice=2)\n",
    "ng.create_n_gram_tagger()\n",
    "ng.f1_by_tags(X_test, y_test)[\"I\"] #F1 score for just I tags"
   ]
  },
  {
   "cell_type": "markdown",
   "metadata": {},
   "source": [
    "## Supervised HMM"
   ]
  },
  {
   "cell_type": "code",
   "execution_count": 5,
   "metadata": {},
   "outputs": [
    {
     "data": {
      "text/plain": [
       "0.89321468298109"
      ]
     },
     "execution_count": 5,
     "metadata": {},
     "output_type": "execute_result"
    }
   ],
   "source": [
    "from architecture.HMMSupervisedTagger import HMMSupervisedTagger\n",
    "hmm = HMMSupervisedTagger(X_train, y_train)\n",
    "hmm.train()\n",
    "hmm.f1_by_tags(X_test, y_test)[\"I\"]\n"
   ]
  },
  {
   "cell_type": "markdown",
   "metadata": {},
   "source": [
    "The same thing as HMM Tagger but instead of just using the provided characters, I manually engineered some features (probably not the best bleh)... You can check it out in `architecture.WordSegPreProcessing.apply_features`"
   ]
  },
  {
   "cell_type": "code",
   "execution_count": 6,
   "metadata": {},
   "outputs": [
    {
     "data": {
      "text/plain": [
       "0.9547856723429242"
      ]
     },
     "execution_count": 6,
     "metadata": {},
     "output_type": "execute_result"
    }
   ],
   "source": [
    "from architecture.HMMSupervisedTagger import HMMSupervisedTagger\n",
    "hmm2 = HMMSupervisedTagger(preprocessor.generate_features(X_train), y_train)\n",
    "hmm2.train()\n",
    "hmm2.f1_by_tags(preprocessor.generate_features(X_test), y_test)[\"I\"]\n"
   ]
  },
  {
   "cell_type": "markdown",
   "metadata": {},
   "source": [
    "## Unsupervised"
   ]
  },
  {
   "cell_type": "code",
   "execution_count": 7,
   "metadata": {},
   "outputs": [],
   "source": [
    "from architecture.utils import *\n",
    "x, y = file_to_table(read_file(fn))\n",
    "feedX, feedY = preprocessor.extract_pairs(x[:650], y[:650])\n"
   ]
  },
  {
   "cell_type": "code",
   "execution_count": 8,
   "metadata": {},
   "outputs": [
    {
     "data": {
      "text/plain": [
       "{'I': 0, 'B': 1}"
      ]
     },
     "execution_count": 8,
     "metadata": {},
     "output_type": "execute_result"
    }
   ],
   "source": [
    "preprocessor.index_tag"
   ]
  },
  {
   "cell_type": "code",
   "execution_count": 9,
   "metadata": {},
   "outputs": [],
   "source": [
    "feedX = list(map(lambda x: preprocessor.let2index(x), feedX ))\n",
    "feedY = list(map(lambda y: preprocessor.tag2index(y), feedY))\n"
   ]
  },
  {
   "cell_type": "code",
   "execution_count": 10,
   "metadata": {},
   "outputs": [],
   "source": [
    "#initialize with some probs\n",
    "import nltk\n",
    "import numpy as np\n",
    "init_tmat = np.zeros((len(preprocessor.index_tag),\n",
    "                     len(preprocessor.index_tag)))\n",
    "\n",
    "init_emission = np.zeros(\n",
    "    (len(preprocessor.index_tag), len(preprocessor.index_vocab)))\n",
    "trainer = nltk.HiddenMarkovModelTrainer()\n",
    "tagger = trainer.train_supervised(\n",
    "           tuple_xy4nltk(feedX, feedY))\n",
    "for k in tagger._transitions.keys():\n",
    "    for v in tagger._transitions[k].samples():\n",
    "        init_tmat[k][v] = tagger._transitions[k].prob(v)\n",
    "    for let in tagger._outputs[k].samples():\n",
    "        init_emission[k][let] = tagger._outputs[k].prob(let)\n",
    "init_state_distrib = np.array([0, 1.0])  # obvi because always start with B\n",
    "\n"
   ]
  },
  {
   "cell_type": "code",
   "execution_count": 13,
   "metadata": {},
   "outputs": [],
   "source": [
    "unsupervised = UnSupervised(init_tmat, init_emission, init_state_distrib) # obvi because always start with B)"
   ]
  },
  {
   "cell_type": "code",
   "execution_count": 14,
   "metadata": {},
   "outputs": [
    {
     "data": {
      "text/plain": [
       "array([[0.00000000e+00, 6.99325629e-05, 0.00000000e+00, 1.32803428e-06,\n",
       "        0.00000000e+00, 0.00000000e+00],\n",
       "       [7.81059312e-03, 6.99325629e-05, 1.66540159e-05, 1.81527761e-06,\n",
       "        1.69314090e-07, 5.43416174e-09]])"
      ]
     },
     "execution_count": 14,
     "metadata": {},
     "output_type": "execute_result"
    }
   ],
   "source": [
    "unsupervised.calculate_beta_forward(feedX[33])"
   ]
  },
  {
   "cell_type": "code",
   "execution_count": 15,
   "metadata": {},
   "outputs": [
    {
     "name": "stdout",
     "output_type": "stream",
     "text": [
      "[[0.        0.        0.        0.        0.        0.       ]\n",
      " [0.        0.        0.        0.        0.        0.0039053]]\n"
     ]
    },
    {
     "data": {
      "text/plain": [
       "array([[0.       , 0.       , 0.       , 0.       , 0.       , 0.       ],\n",
       "       [0.       , 0.       , 0.       , 0.       , 0.       , 0.0039053]])"
      ]
     },
     "execution_count": 15,
     "metadata": {},
     "output_type": "execute_result"
    }
   ],
   "source": [
    "unsupervised.calculate_alpha_backward(feedX[33])\n"
   ]
  },
  {
   "cell_type": "code",
   "execution_count": 12,
   "metadata": {},
   "outputs": [],
   "source": [
    "import nltk\n",
    "from architecture.utils import *\n",
    "import numpy as np\n",
    "\n",
    "\n",
    "class UnSupervised:\n",
    "    def __init__(self, tmat, emission, initial_distrib):\n",
    "\n",
    "        self.tmat = tmat\n",
    "        self.emission = emission\n",
    "        self.initial_prob = initial_distrib\n",
    "\n",
    "        self.num_states = len(self.tmat)\n",
    "        self.num_letters = len(self.emission[0])\n",
    "\n",
    "    def maximize(self):  # viterbi\n",
    "        return\n",
    "\n",
    "    def decode(self):  # tagging the input\n",
    "        return\n",
    "\n",
    "    def estimate(self, o_seq):  # forward backward algorithm\n",
    "        backward_table = np.zeros((self.num_states, len(o_seq)))  # vit table\n",
    "        for i in range(len(o_seq)):  # Filling in the table\n",
    "            prev_prob = tf.reshape(self.forward[i, :], [1, -1])\n",
    "\n",
    "    def calculate_alpha_backward(self, o_seq, end_prob=[0.5, 0.5]):\n",
    "        backward_table = np.zeros((self.num_states, len(o_seq)))  # vit table\n",
    "        #backward_tn = [self.emission[i][o_seq[0]]\n",
    "        #               for i in range(self.num_states)]\n",
    "        \n",
    "        backward_table[:, -1] = np.multiply(backward_tn, end_prob)\n",
    "        print(backward_table)\n",
    "\n",
    "        for i in range(0, len(o_seq)-1, -1):  # start filling in the table\n",
    "            beta_s_t = 0\n",
    "            for tag_cell in range(self.num_states):\n",
    "                for tag_prev in range(self.num_states):\n",
    "                    beta_s_t += backward_table[tag_prev][i+1] * \\\n",
    "                        self.tmat[tag_prev][tag_cell] * \\\n",
    "                        self.emission[tag_cell][o_seq[i]]\n",
    "                backward_table[tag_cell][i] = beta_s_t\n",
    "        return backward_table\n",
    "\n",
    "    def calculate_beta_forward(self, o_seq):\n",
    "\n",
    "        forward_table = np.zeros((self.num_states, len(o_seq)))  # vit table\n",
    "        emission_t0 = [self.emission[i][o_seq[0]]\n",
    "                       for i in range(self.num_states)]\n",
    "        forward_table[:, 0] = np.multiply(emission_t0, self.initial_prob)\n",
    "\n",
    "        for i in range(1, len(o_seq)):  # start filling in the table\n",
    "            alpha_s_t = 0\n",
    "            for tag_cell in range(self.num_states):\n",
    "                for tag_prev in range(self.num_states):\n",
    "                    alpha_s_t += forward_table[tag_prev][i-1] * \\\n",
    "                        self.tmat[tag_prev][tag_cell] * \\\n",
    "                        self.emission[tag_cell][o_seq[i]]\n",
    "                forward_table[tag_cell][i] = alpha_s_t\n",
    "        return forward_table\n"
   ]
  },
  {
   "cell_type": "code",
   "execution_count": null,
   "metadata": {},
   "outputs": [],
   "source": []
  }
 ],
 "metadata": {
  "kernelspec": {
   "display_name": "Python 3.7.4 ('base')",
   "language": "python",
   "name": "python3"
  },
  "language_info": {
   "codemirror_mode": {
    "name": "ipython",
    "version": 3
   },
   "file_extension": ".py",
   "mimetype": "text/x-python",
   "name": "python",
   "nbconvert_exporter": "python",
   "pygments_lexer": "ipython3",
   "version": "3.7.4"
  },
  "orig_nbformat": 4,
  "vscode": {
   "interpreter": {
    "hash": "38d37c7b51a76fad05d5106cda319bdfc676f147592bff32468239985737bad5"
   }
  }
 },
 "nbformat": 4,
 "nbformat_minor": 2
}
